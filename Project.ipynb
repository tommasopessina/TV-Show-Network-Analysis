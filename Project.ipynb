{
 "cells": [
  {
   "cell_type": "markdown",
   "metadata": {},
   "source": [
    "import necessary for calling external function"
   ]
  },
  {
   "cell_type": "code",
   "execution_count": 18,
   "metadata": {},
   "outputs": [],
   "source": [
    "import networkx as nx\n",
    "import pandas as pd\n",
    "import numpy as np\n",
    "from statsmodels.distributions.empirical_distribution import ECDF\n",
    "import matplotlib.pyplot as plt"
   ]
  },
  {
   "cell_type": "markdown",
   "metadata": {},
   "source": [
    "Create the graph, read the file and add edge and nodes "
   ]
  },
  {
   "cell_type": "code",
   "execution_count": 3,
   "metadata": {},
   "outputs": [
    {
     "name": "stdout",
     "output_type": "stream",
     "text": [
      "Number of nodes: 3892 - Number of links:17261\n"
     ]
    }
   ],
   "source": [
    "graph = nx.Graph()\n",
    "graph_edge_list=nx.Graph()\n",
    "\n",
    "with open('fb-pages-tvshowEDGE.csv') as f:\n",
    "    f.readline()\n",
    "    for line in f:\n",
    "        source, destination = line.strip().split(',') #tuple\n",
    "        graph.add_edge(source,destination)\n",
    "        \n",
    "print('Number of nodes: {} - Number of links:{}'.format(graph.order(),graph.size()))"
   ]
  },
  {
   "cell_type": "markdown",
   "metadata": {},
   "source": [
    "Read the nodes labels from file and relabel the graph nodes"
   ]
  },
  {
   "cell_type": "code",
   "execution_count": 4,
   "metadata": {},
   "outputs": [],
   "source": [
    "labels = {}\n",
    "\n",
    "df = pd.read_csv(\"fb-pages-tvshowNODES.csv\")\n",
    "\n",
    "df = df[~df.isin([np.nan, np.inf, -np.inf]).any(1)]\n",
    "\n",
    "for index, row in df.iterrows():\n",
    "    tmp = int(row[\"Id\"])\n",
    "    labels[str(tmp)] = str(row[\"name\"])\n",
    "    \n",
    "graph = nx.relabel_nodes(graph, labels)\n",
    "\n",
    "pos = nx.spring_layout(graph)\n",
    "#nx.draw_networkx(graph,pos=pos)\n",
    " \n",
    "    #test\n",
    "#nx.draw_networkx_labels(graph, pos, label, font_size=16)\n",
    "#nx.draw(graph, with_labels = True)\n",
    "#nx.draw_networkx_nodes(graph, pos) \n",
    "#nx.draw_networkx_edges(graph, pos) \n",
    "#nx.draw_networkx_labels(graph, pos, labels, font_size=1)"
   ]
  },
  {
   "cell_type": "markdown",
   "metadata": {},
   "source": [
    "Run some statistics over the network"
   ]
  },
  {
   "cell_type": "code",
   "execution_count": 5,
   "metadata": {},
   "outputs": [
    {
     "name": "stdout",
     "output_type": "stream",
     "text": [
      "Mean degree: 8.932435930623868\n",
      "Median degree: 5.0\n",
      "Standard Deviation: 12.658862276836015\n",
      "Max degree value: 126\n",
      "Min degree value: 1\n"
     ]
    }
   ],
   "source": [
    "graph_degree=list(dict(graph.degree()).values())\n",
    "\n",
    "print(\"Mean degree: \"+ str(np.mean(graph_degree)))\n",
    "print(\"Median degree: \" + str(np.median(graph_degree))) \n",
    "print(\"Standard Deviation: \"+ str(np.std(graph_degree)))\n",
    "print(\"Max degree value: \" + str(np.max(graph_degree)))\n",
    "print(\"Min degree value: \" + str(np.min(graph_degree)))"
   ]
  },
  {
   "cell_type": "markdown",
   "metadata": {},
   "source": [
    "A first simple degree analysis"
   ]
  },
  {
   "cell_type": "code",
   "execution_count": 6,
   "metadata": {},
   "outputs": [
    {
     "name": "stdout",
     "output_type": "stream",
     "text": [
      "Modern Family has degree 86\n",
      "The Office has degree 45\n",
      "Hell's Kitchen has degree 94\n",
      "The Big Bang Theory has degree 36\n"
     ]
    }
   ],
   "source": [
    "def getKey(label):\n",
    "    keys = list(labels.keys())\n",
    "    vals = list(labels.values())\n",
    "    key = keys[vals.index(label)]\n",
    "    return key\n",
    "\n",
    "print(\"Modern Family has degree \" + str(graph.degree[\"Modern Family\"]))\n",
    "print(\"The Office has degree \" + str(graph.degree[\"The Office\"]))\n",
    "print(\"Hell's Kitchen has degree \" + str(graph.degree[\"Hell's Kitchen\"]))\n",
    "print(\"The Big Bang Theory has degree \" + str(graph.degree[\"The Big Bang Theory\"]))"
   ]
  },
  {
   "cell_type": "markdown",
   "metadata": {},
   "source": [
    "# Degree analysis\n",
    "Define some constant"
   ]
  },
  {
   "cell_type": "code",
   "execution_count": 7,
   "metadata": {},
   "outputs": [],
   "source": [
    "max_element = 15"
   ]
  },
  {
   "cell_type": "markdown",
   "metadata": {},
   "source": [
    "## Degree Centrality\n",
    "This is based on the assumption that important nodes have many connections"
   ]
  },
  {
   "cell_type": "code",
   "execution_count": 8,
   "metadata": {},
   "outputs": [
    {
     "name": "stdout",
     "output_type": "stream",
     "text": [
      "Home & Family 0.03262558259968928\n",
      "Queen of the South 0.03262558259968928\n",
      "So You Think You Can Dance 0.027964785085447953\n",
      "MasterChef 0.027705851890212324\n",
      "Glee 0.026929052304505437\n",
      "New Girl 0.02641118591403418\n",
      "Family Guy 0.02615225271879855\n",
      "The Simpsons 0.02589331952356292\n",
      "Dancing with the Stars 0.02589331952356292\n",
      "Bones 0.025116519937856033\n",
      "Brooklyn Nine-Nine 0.02459865354738477\n",
      "Bob's Burgers 0.02459865354738477\n",
      "Hell's Kitchen 0.024339720352149142\n",
      "Sleepy Hollow 0.023045054375970996\n",
      "Modern Family 0.02226825479026411\n"
     ]
    }
   ],
   "source": [
    "centrality = nx.degree_centrality(graph)\n",
    "\n",
    "sort_orders = sorted(centrality.items(), key=lambda x: x[1], reverse=True)\n",
    "\n",
    "degree_centr = []\n",
    "\n",
    "count=0\n",
    "for i in sort_orders:\n",
    "    if count==max_element:\n",
    "        break\n",
    "    count=count+1\n",
    "    print(i[0], i[1])\n",
    "    degree_centr.append(i[0])"
   ]
  },
  {
   "cell_type": "markdown",
   "metadata": {},
   "source": [
    "## Closeness Centrality\n",
    "This is based on the assumption that important nodes are close to other nodes."
   ]
  },
  {
   "cell_type": "code",
   "execution_count": 9,
   "metadata": {},
   "outputs": [
    {
     "name": "stdout",
     "output_type": "stream",
     "text": [
      "Queen of the South 0.26575832645196806\n",
      "Home & Family 0.2640864332603939\n",
      "Access 0.2594383984952304\n",
      "The Tonight Show Starring Jimmy Fallon 0.2537617451869374\n",
      "The Voice 0.2489043567929879\n",
      "The List 0.2461440407903123\n",
      "America's Got Talent 0.2456274247917064\n",
      "The Insider 0.2449575034885196\n",
      "The Biggest Loser 0.24326026706979087\n",
      "Entourage 0.242268364594442\n",
      "Parenthood 0.24125437281359322\n",
      "Jay Leno 0.24074304949507544\n",
      "Parks and Recreation 0.23992048207740574\n",
      "New Girl 0.23951872984371123\n",
      "Extra 0.23779323933255342\n"
     ]
    }
   ],
   "source": [
    "close_centrality = nx.closeness_centrality(graph) \n",
    "\n",
    "sort_orders = sorted(close_centrality.items(), key=lambda x: x[1], reverse=True)\n",
    "\n",
    "close_centr = []\n",
    "\n",
    "count=0\n",
    "for i in sort_orders:\n",
    "    if count==max_element:\n",
    "        break\n",
    "    count=count+1\n",
    "    print(i[0], i[1])\n",
    "    close_centr.append(i[0])"
   ]
  },
  {
   "cell_type": "markdown",
   "metadata": {},
   "source": [
    "## Betweenness Centrality\n",
    "It assumes that important nodes connect other nodes"
   ]
  },
  {
   "cell_type": "code",
   "execution_count": 10,
   "metadata": {},
   "outputs": [
    {
     "name": "stdout",
     "output_type": "stream",
     "text": [
      "Queen of the South 0.26575832645196806\n",
      "Home & Family 0.2640864332603939\n",
      "Access 0.2594383984952304\n",
      "The Tonight Show Starring Jimmy Fallon 0.2537617451869374\n",
      "The Voice 0.2489043567929879\n",
      "The List 0.2461440407903123\n",
      "America's Got Talent 0.2456274247917064\n",
      "The Insider 0.2449575034885196\n",
      "The Biggest Loser 0.24326026706979087\n",
      "Entourage 0.242268364594442\n",
      "Parenthood 0.24125437281359322\n",
      "Jay Leno 0.24074304949507544\n",
      "Parks and Recreation 0.23992048207740574\n",
      "New Girl 0.23951872984371123\n",
      "Extra 0.23779323933255342\n"
     ]
    }
   ],
   "source": [
    "bet_centrality = nx.betweenness_centrality(graph, normalized = True,  \n",
    "                                              endpoints = False)\n",
    "\n",
    "sort_orders = sorted(close_centrality.items(), key=lambda x: x[1], reverse=True)\n",
    "\n",
    "between_centr = []\n",
    "\n",
    "count=0\n",
    "for i in sort_orders:\n",
    "    if count==max_element:\n",
    "        break\n",
    "    count=count+1\n",
    "    print(i[0], i[1])\n",
    "    between_centr.append(i[0])"
   ]
  },
  {
   "cell_type": "markdown",
   "metadata": {},
   "source": [
    "## Page Rank\n",
    "Page Rank Algorithm was developed by Google founders to measure the importance of webpages from the hyperlink network structure. Page Rank assigns a score of importance to each node. Important nodes are those with many inlinks from important pages."
   ]
  },
  {
   "cell_type": "code",
   "execution_count": 11,
   "metadata": {},
   "outputs": [
    {
     "name": "stdout",
     "output_type": "stream",
     "text": [
      "Queen of the South 0.26575832645196806\n",
      "Home & Family 0.2640864332603939\n",
      "Access 0.2594383984952304\n",
      "The Tonight Show Starring Jimmy Fallon 0.2537617451869374\n",
      "The Voice 0.2489043567929879\n",
      "The List 0.2461440407903123\n",
      "America's Got Talent 0.2456274247917064\n",
      "The Insider 0.2449575034885196\n",
      "The Biggest Loser 0.24326026706979087\n",
      "Entourage 0.242268364594442\n",
      "Parenthood 0.24125437281359322\n",
      "Jay Leno 0.24074304949507544\n",
      "Parks and Recreation 0.23992048207740574\n",
      "New Girl 0.23951872984371123\n",
      "Extra 0.23779323933255342\n"
     ]
    }
   ],
   "source": [
    "pr = nx.pagerank(graph, alpha = 0.8)\n",
    "\n",
    "sort_orders = sorted(close_centrality.items(), key=lambda x: x[1], reverse=True)\n",
    "\n",
    "page_rank = []\n",
    "\n",
    "count=0\n",
    "for i in sort_orders:\n",
    "    if count==max_element:\n",
    "        break\n",
    "    count=count+1\n",
    "    print(i[0], i[1])\n",
    "    page_rank.append(i[0])"
   ]
  },
  {
   "cell_type": "markdown",
   "metadata": {},
   "source": [
    "### Here we can see the different result jointly"
   ]
  },
  {
   "cell_type": "code",
   "execution_count": 12,
   "metadata": {},
   "outputs": [
    {
     "data": {
      "text/html": [
       "<div>\n",
       "<style scoped>\n",
       "    .dataframe tbody tr th:only-of-type {\n",
       "        vertical-align: middle;\n",
       "    }\n",
       "\n",
       "    .dataframe tbody tr th {\n",
       "        vertical-align: top;\n",
       "    }\n",
       "\n",
       "    .dataframe thead th {\n",
       "        text-align: right;\n",
       "    }\n",
       "</style>\n",
       "<table border=\"1\" class=\"dataframe\">\n",
       "  <thead>\n",
       "    <tr style=\"text-align: right;\">\n",
       "      <th></th>\n",
       "      <th>Degree Centrality</th>\n",
       "      <th>Closeness Centrality</th>\n",
       "      <th>Betweenness Centrality</th>\n",
       "      <th>Page Rank</th>\n",
       "    </tr>\n",
       "  </thead>\n",
       "  <tbody>\n",
       "    <tr>\n",
       "      <th>0</th>\n",
       "      <td>Home &amp; Family</td>\n",
       "      <td>Queen of the South</td>\n",
       "      <td>Queen of the South</td>\n",
       "      <td>Queen of the South</td>\n",
       "    </tr>\n",
       "    <tr>\n",
       "      <th>1</th>\n",
       "      <td>Queen of the South</td>\n",
       "      <td>Home &amp; Family</td>\n",
       "      <td>Home &amp; Family</td>\n",
       "      <td>Home &amp; Family</td>\n",
       "    </tr>\n",
       "    <tr>\n",
       "      <th>2</th>\n",
       "      <td>So You Think You Can Dance</td>\n",
       "      <td>Access</td>\n",
       "      <td>Access</td>\n",
       "      <td>Access</td>\n",
       "    </tr>\n",
       "    <tr>\n",
       "      <th>3</th>\n",
       "      <td>MasterChef</td>\n",
       "      <td>The Tonight Show Starring Jimmy Fallon</td>\n",
       "      <td>The Tonight Show Starring Jimmy Fallon</td>\n",
       "      <td>The Tonight Show Starring Jimmy Fallon</td>\n",
       "    </tr>\n",
       "    <tr>\n",
       "      <th>4</th>\n",
       "      <td>Glee</td>\n",
       "      <td>The Voice</td>\n",
       "      <td>The Voice</td>\n",
       "      <td>The Voice</td>\n",
       "    </tr>\n",
       "    <tr>\n",
       "      <th>5</th>\n",
       "      <td>New Girl</td>\n",
       "      <td>The List</td>\n",
       "      <td>The List</td>\n",
       "      <td>The List</td>\n",
       "    </tr>\n",
       "    <tr>\n",
       "      <th>6</th>\n",
       "      <td>Family Guy</td>\n",
       "      <td>America's Got Talent</td>\n",
       "      <td>America's Got Talent</td>\n",
       "      <td>America's Got Talent</td>\n",
       "    </tr>\n",
       "    <tr>\n",
       "      <th>7</th>\n",
       "      <td>The Simpsons</td>\n",
       "      <td>The Insider</td>\n",
       "      <td>The Insider</td>\n",
       "      <td>The Insider</td>\n",
       "    </tr>\n",
       "    <tr>\n",
       "      <th>8</th>\n",
       "      <td>Dancing with the Stars</td>\n",
       "      <td>The Biggest Loser</td>\n",
       "      <td>The Biggest Loser</td>\n",
       "      <td>The Biggest Loser</td>\n",
       "    </tr>\n",
       "    <tr>\n",
       "      <th>9</th>\n",
       "      <td>Bones</td>\n",
       "      <td>Entourage</td>\n",
       "      <td>Entourage</td>\n",
       "      <td>Entourage</td>\n",
       "    </tr>\n",
       "    <tr>\n",
       "      <th>10</th>\n",
       "      <td>Brooklyn Nine-Nine</td>\n",
       "      <td>Parenthood</td>\n",
       "      <td>Parenthood</td>\n",
       "      <td>Parenthood</td>\n",
       "    </tr>\n",
       "    <tr>\n",
       "      <th>11</th>\n",
       "      <td>Bob's Burgers</td>\n",
       "      <td>Jay Leno</td>\n",
       "      <td>Jay Leno</td>\n",
       "      <td>Jay Leno</td>\n",
       "    </tr>\n",
       "    <tr>\n",
       "      <th>12</th>\n",
       "      <td>Hell's Kitchen</td>\n",
       "      <td>Parks and Recreation</td>\n",
       "      <td>Parks and Recreation</td>\n",
       "      <td>Parks and Recreation</td>\n",
       "    </tr>\n",
       "    <tr>\n",
       "      <th>13</th>\n",
       "      <td>Sleepy Hollow</td>\n",
       "      <td>New Girl</td>\n",
       "      <td>New Girl</td>\n",
       "      <td>New Girl</td>\n",
       "    </tr>\n",
       "    <tr>\n",
       "      <th>14</th>\n",
       "      <td>Modern Family</td>\n",
       "      <td>Extra</td>\n",
       "      <td>Extra</td>\n",
       "      <td>Extra</td>\n",
       "    </tr>\n",
       "  </tbody>\n",
       "</table>\n",
       "</div>"
      ],
      "text/plain": [
       "             Degree Centrality                    Closeness Centrality  \\\n",
       "0                Home & Family                      Queen of the South   \n",
       "1           Queen of the South                           Home & Family   \n",
       "2   So You Think You Can Dance                                  Access   \n",
       "3                   MasterChef  The Tonight Show Starring Jimmy Fallon   \n",
       "4                         Glee                               The Voice   \n",
       "5                     New Girl                                The List   \n",
       "6                   Family Guy                    America's Got Talent   \n",
       "7                 The Simpsons                             The Insider   \n",
       "8       Dancing with the Stars                       The Biggest Loser   \n",
       "9                        Bones                               Entourage   \n",
       "10          Brooklyn Nine-Nine                              Parenthood   \n",
       "11               Bob's Burgers                                Jay Leno   \n",
       "12              Hell's Kitchen                    Parks and Recreation   \n",
       "13               Sleepy Hollow                                New Girl   \n",
       "14               Modern Family                                   Extra   \n",
       "\n",
       "                    Betweenness Centrality  \\\n",
       "0                       Queen of the South   \n",
       "1                            Home & Family   \n",
       "2                                   Access   \n",
       "3   The Tonight Show Starring Jimmy Fallon   \n",
       "4                                The Voice   \n",
       "5                                 The List   \n",
       "6                     America's Got Talent   \n",
       "7                              The Insider   \n",
       "8                        The Biggest Loser   \n",
       "9                                Entourage   \n",
       "10                              Parenthood   \n",
       "11                                Jay Leno   \n",
       "12                    Parks and Recreation   \n",
       "13                                New Girl   \n",
       "14                                   Extra   \n",
       "\n",
       "                                 Page Rank  \n",
       "0                       Queen of the South  \n",
       "1                            Home & Family  \n",
       "2                                   Access  \n",
       "3   The Tonight Show Starring Jimmy Fallon  \n",
       "4                                The Voice  \n",
       "5                                 The List  \n",
       "6                     America's Got Talent  \n",
       "7                              The Insider  \n",
       "8                        The Biggest Loser  \n",
       "9                                Entourage  \n",
       "10                              Parenthood  \n",
       "11                                Jay Leno  \n",
       "12                    Parks and Recreation  \n",
       "13                                New Girl  \n",
       "14                                   Extra  "
      ]
     },
     "execution_count": 12,
     "metadata": {},
     "output_type": "execute_result"
    }
   ],
   "source": [
    "df = pd.DataFrame()\n",
    "df[\"Degree Centrality\"] = degree_centr\n",
    "df[\"Closeness Centrality\"] = close_centr\n",
    "df[\"Betweenness Centrality\"] = between_centr\n",
    "df[\"Page Rank\"] = page_rank\n",
    "df"
   ]
  },
  {
   "cell_type": "markdown",
   "metadata": {},
   "source": [
    "# Isolation and Connectivity"
   ]
  },
  {
   "cell_type": "code",
   "execution_count": 13,
   "metadata": {},
   "outputs": [
    {
     "name": "stdout",
     "output_type": "stream",
     "text": [
      "[]\n"
     ]
    }
   ],
   "source": [
    "print(list(nx.isolates(graph)))"
   ]
  },
  {
   "cell_type": "code",
   "execution_count": 14,
   "metadata": {},
   "outputs": [
    {
     "name": "stdout",
     "output_type": "stream",
     "text": [
      "True\n",
      "1\n"
     ]
    }
   ],
   "source": [
    "print(nx.is_connected(graph))\n",
    "print(nx.number_connected_components(graph))"
   ]
  },
  {
   "cell_type": "markdown",
   "metadata": {},
   "source": [
    "# ECDF in linear e logscale"
   ]
  },
  {
   "cell_type": "code",
   "execution_count": 19,
   "metadata": {},
   "outputs": [
    {
     "data": {
      "text/plain": [
       "Text(0, 0.5, 'ECDF TV Show')"
      ]
     },
     "execution_count": 19,
     "metadata": {},
     "output_type": "execute_result"
    },
    {
     "data": {
      "image/png": "[encoded data removed]",
      "text/plain": [
       "<Figure size 576x288 with 1 Axes>"
      ]
     },
     "metadata": {
      "needs_background": "light"
     },
     "output_type": "display_data"
    }
   ],
   "source": [
    "# ECDF linear scale\n",
    "cdf = ECDF(graph_degree)\n",
    "x = np.unique(graph_degree)\n",
    "y = cdf(x)\n",
    "fig_cdf = plt.figure(figsize=(8,4))\n",
    "axes = fig_cdf.gca()\n",
    "axes.plot(x,y,marker='o',ms=6, linestyle='None')\n",
    "axes.set_xlabel('Degree',size=20)\n",
    "axes.set_ylabel('ECDF TV Show', size = 20)"
   ]
  },
  {
   "cell_type": "code",
   "execution_count": 20,
   "metadata": {},
   "outputs": [
    {
     "data": {
      "text/plain": [
       "Text(0, 0.5, 'ECDF TV Show')"
      ]
     },
     "execution_count": 20,
     "metadata": {},
     "output_type": "execute_result"
    },
    {
     "data": {
      "image/png": "[encoded data removed]",
      "text/plain": [
       "<Figure size 576x288 with 1 Axes>"
      ]
     },
     "metadata": {
      "needs_background": "light"
     },
     "output_type": "display_data"
    }
   ],
   "source": [
    "# ECDF loglog scale\n",
    "cdf = ECDF(graph_degree)\n",
    "x = np.unique(graph_degree)\n",
    "y = cdf(x)\n",
    "fig_cdf = plt.figure(figsize=(8,4))\n",
    "axes = fig_cdf.gca()\n",
    "axes.loglog(x,y,marker='o',ms=8, linestyle='--')\n",
    "axes.set_xlabel('Degree',size=20)\n",
    "axes.set_ylabel('ECDF TV Show', size = 20)"
   ]
  },
  {
   "cell_type": "code",
   "execution_count": 21,
   "metadata": {},
   "outputs": [
    {
     "data": {
      "text/plain": [
       "Text(0, 0.5, 'ECDF TV Show')"
      ]
     },
     "execution_count": 21,
     "metadata": {},
     "output_type": "execute_result"
    },
    {
     "data": {
      "image/png": "[encoded data removed]",
      "text/plain": [
       "<Figure size 576x288 with 1 Axes>"
      ]
     },
     "metadata": {
      "needs_background": "light"
     },
     "output_type": "display_data"
    }
   ],
   "source": [
    "# ECCDF\n",
    "cdf = ECDF(graph_degree)\n",
    "x = np.unique(graph_degree)\n",
    "y = cdf(x)\n",
    "fig_cdf = plt.figure(figsize=(8,4))\n",
    "axes = fig_cdf.gca()\n",
    "axes.loglog(x,1-y,marker='o',ms=8, linestyle='--')\n",
    "axes.set_xlabel('Degree',size=20)\n",
    "axes.set_ylabel('ECDF TV Show', size = 20)"
   ]
  },
  {
   "cell_type": "code",
   "execution_count": 23,
   "metadata": {},
   "outputs": [
    {
     "name": "stdout",
     "output_type": "stream",
     "text": [
      "Density: 0.0023129041767539792\n"
     ]
    }
   ],
   "source": [
    "density = nx.density(graph)\n",
    "print('Density: {}'.format(density))"
   ]
  },
  {
   "cell_type": "code",
   "execution_count": 24,
   "metadata": {},
   "outputs": [
    {
     "name": "stdout",
     "output_type": "stream",
     "text": [
      "Number of nodes: 3863\n",
      "Number of links: 17299\n"
     ]
    }
   ],
   "source": [
    "p = density\n",
    "\n",
    "random_graph = nx.fast_gnp_random_graph(graph.order(),p)\n",
    "\n",
    "print('Number of nodes: {}'.format(random_graph.order()))\n",
    "print('Number of links: {}'.format(random_graph.size()))\n",
    "\n",
    "random_degree = list(dict(random_graph.degree()).values())"
   ]
  },
  {
   "cell_type": "code",
   "execution_count": 26,
   "metadata": {},
   "outputs": [
    {
     "data": {
      "text/plain": [
       "Text(0, 0.5, 'ECCDF')"
      ]
     },
     "execution_count": 26,
     "metadata": {},
     "output_type": "execute_result"
    },
    {
     "data": {
      "image/png": "[encoded data removed]",
      "text/plain": [
       "<Figure size 576x288 with 1 Axes>"
      ]
     },
     "metadata": {
      "needs_background": "light"
     },
     "output_type": "display_data"
    }
   ],
   "source": [
    "cdf = ECDF(graph_degree)\n",
    "x = np.unique(graph_degree)\n",
    "y = cdf(x)\n",
    "\n",
    "cdf_random = ECDF(random_degree)\n",
    "x_random = np.unique(random_degree)\n",
    "y_random = cdf_random(x_random)\n",
    "\n",
    "fig_cdf_fb = plt.figure(figsize=(8,4))\n",
    "axes = fig_cdf_fb.gca()\n",
    "axes.set_xscale('log')\n",
    "axes.set_yscale('log')\n",
    "axes.loglog(x,1-y,marker='o',ms=8, linestyle='--')\n",
    "axes.loglog(x_random,1-y_random,marker='+',ms=10, linestyle='--')\n",
    "axes.set_xlabel('Degree',size=20)\n",
    "axes.set_ylabel('ECCDF', size = 20)"
   ]
  },
  {
   "cell_type": "markdown",
   "metadata": {},
   "source": [
    "# Hubs"
   ]
  },
  {
   "cell_type": "code",
   "execution_count": 28,
   "metadata": {},
   "outputs": [
    {
     "name": "stdout",
     "output_type": "stream",
     "text": [
      "65.0\n",
      "40\n",
      "['American Grit', 'Wayward Pines', 'MasterChef', 'The Grinder', 'FOX Teen Choice Awards', 'Rosewood', 'Scream Queens', 'New Girl', 'Gotham', 'Family Guy', 'Grandfathered', 'Empire', 'Second Chance', 'So You Think You Can Dance', 'The Simpsons', 'Glee', 'MasterChef Junior', 'Bones', 'Sleepy Hollow', 'Lucifer', \"Hell's Kitchen\", '24: Legacy', 'My Kitchen Rules', 'Brooklyn Nine-Nine', 'Hotel Hell', 'The Last Man on Earth', \"Bob's Burgers\", 'The Bachelorette', 'Castle', 'Dancing with the Stars', 'The Middle', 'Modern Family', 'The View', 'Once Upon a Time', 'Revenge', 'Suburgatory', 'Rookie Blue', 'Home & Family', 'Queen of the South', 'tagesschau']\n"
     ]
    }
   ],
   "source": [
    "percentile_99 = np.percentile(graph_degree,99)\n",
    "print(percentile_99)\n",
    "\n",
    "hub_nodi = [k for k,v in dict(graph.degree()).items() if v>= percentile_99]\n",
    "\n",
    "print(len(hub_nodi))\n",
    "print(list(hub_nodi))"
   ]
  },
  {
   "cell_type": "markdown",
   "metadata": {},
   "source": [
    "# Conclusion"
   ]
  },
  {
   "cell_type": "code",
   "execution_count": null,
   "metadata": {},
   "outputs": [],
   "source": []
  }
 ],
 "metadata": {
  "kernelspec": {
   "display_name": "Python 3",
   "language": "python",
   "name": "python3"
  },
  "language_info": {
   "codemirror_mode": {
    "name": "ipython",
    "version": 3
   },
   "file_extension": ".py",
   "mimetype": "text/x-python",
   "name": "python",
   "nbconvert_exporter": "python",
   "pygments_lexer": "ipython3",
   "version": "3.8.3"
  }
 },
 "nbformat": 4,
 "nbformat_minor": 4
}
