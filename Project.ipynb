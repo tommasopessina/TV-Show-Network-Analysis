{
 "cells": [
  {
   "cell_type": "markdown",
   "metadata": {},
   "source": [
    "# TV-Show Social Network Analysis"
   ]
  },
  {
   "cell_type": "markdown",
   "metadata": {},
   "source": [
    "import necessary for calling external function"
   ]
  },
  {
   "cell_type": "code",
   "execution_count": 5,
   "metadata": {},
   "outputs": [],
   "source": [
    "import networkx as nx\n",
    "import pandas as pd\n",
    "import numpy as np\n",
    "from statsmodels.distributions.empirical_distribution import ECDF\n",
    "import matplotlib.pyplot as plt"
   ]
  },
  {
   "cell_type": "markdown",
   "metadata": {},
   "source": [
    "Create the graph, read the file and add edge and nodes "
   ]
  },
  {
   "cell_type": "code",
   "execution_count": 6,
   "metadata": {},
   "outputs": [
    {
     "name": "stdout",
     "output_type": "stream",
     "text": [
      "Number of nodes: 3892 - Number of links:17261\n"
     ]
    }
   ],
   "source": [
    "graph = nx.Graph()\n",
    "graph_edge_list=nx.Graph()\n",
    "\n",
    "with open('fb-pages-tvshowEDGE.csv') as f:\n",
    "    f.readline()\n",
    "    for line in f:\n",
    "        source, destination = line.strip().split(',') #tuple\n",
    "        graph.add_edge(source,destination)\n",
    "        \n",
    "print('Number of nodes: {} - Number of links:{}'.format(graph.order(),graph.size()))"
   ]
  },
  {
   "cell_type": "markdown",
   "metadata": {},
   "source": [
    "Read the nodes labels from file and relabel the graph nodes"
   ]
  },
  {
   "cell_type": "code",
   "execution_count": 7,
   "metadata": {},
   "outputs": [],
   "source": [
    "labels = {}\n",
    "\n",
    "df = pd.read_csv(\"fb-pages-tvshowNODES.csv\")\n",
    "\n",
    "df = df[~df.isin([np.nan, np.inf, -np.inf]).any(1)]\n",
    "\n",
    "for index, row in df.iterrows():\n",
    "    tmp = int(row[\"Id\"])\n",
    "    labels[str(tmp)] = str(row[\"name\"])\n",
    "    \n",
    "graph = nx.relabel_nodes(graph, labels)\n",
    "\n",
    "pos = nx.spring_layout(graph)"
   ]
  },
  {
   "cell_type": "markdown",
   "metadata": {},
   "source": [
    "Run some statistics over the network"
   ]
  },
  {
   "cell_type": "code",
   "execution_count": 8,
   "metadata": {},
   "outputs": [
    {
     "name": "stdout",
     "output_type": "stream",
     "text": [
      "Mean degree: 8.932435930623868\n",
      "Median degree: 5.0\n",
      "Standard Deviation: 12.658862276836015\n",
      "Max degree value: 126\n",
      "Min degree value: 1\n"
     ]
    }
   ],
   "source": [
    "graph_degree=list(dict(graph.degree()).values())\n",
    "\n",
    "print(\"Mean degree: \"+ str(np.mean(graph_degree)))\n",
    "print(\"Median degree: \" + str(np.median(graph_degree))) \n",
    "print(\"Standard Deviation: \"+ str(np.std(graph_degree)))\n",
    "print(\"Max degree value: \" + str(np.max(graph_degree)))\n",
    "print(\"Min degree value: \" + str(np.min(graph_degree)))"
   ]
  },
  {
   "cell_type": "markdown",
   "metadata": {},
   "source": [
    "A first simple degree analysis"
   ]
  },
  {
   "cell_type": "code",
   "execution_count": 9,
   "metadata": {},
   "outputs": [
    {
     "name": "stdout",
     "output_type": "stream",
     "text": [
      "Modern Family has degree 86\n",
      "The Office has degree 45\n",
      "Hell's Kitchen has degree 94\n",
      "The Big Bang Theory has degree 36\n"
     ]
    }
   ],
   "source": [
    "def getKey(label):\n",
    "    keys = list(labels.keys())\n",
    "    vals = list(labels.values())\n",
    "    key = keys[vals.index(label)]\n",
    "    return key\n",
    "\n",
    "print(\"Modern Family has degree \" + str(graph.degree[\"Modern Family\"]))\n",
    "print(\"The Office has degree \" + str(graph.degree[\"The Office\"]))\n",
    "print(\"Hell's Kitchen has degree \" + str(graph.degree[\"Hell's Kitchen\"]))\n",
    "print(\"The Big Bang Theory has degree \" + str(graph.degree[\"The Big Bang Theory\"]))"
   ]
  },
  {
   "cell_type": "markdown",
   "metadata": {},
   "source": [
    "# Degree analysis\n",
    "Define some constant"
   ]
  },
  {
   "cell_type": "code",
   "execution_count": 10,
   "metadata": {},
   "outputs": [],
   "source": [
    "max_element = 15"
   ]
  },
  {
   "cell_type": "markdown",
   "metadata": {},
   "source": [
    "## Degree Centrality\n",
    "This is based on the assumption that important nodes have many connections"
   ]
  },
  {
   "cell_type": "code",
   "execution_count": 11,
   "metadata": {},
   "outputs": [
    {
     "name": "stdout",
     "output_type": "stream",
     "text": [
      "Home & Family 0.03262558259968928\n",
      "Queen of the South 0.03262558259968928\n",
      "So You Think You Can Dance 0.027964785085447953\n",
      "MasterChef 0.027705851890212324\n",
      "Glee 0.026929052304505437\n",
      "New Girl 0.02641118591403418\n",
      "Family Guy 0.02615225271879855\n",
      "The Simpsons 0.02589331952356292\n",
      "Dancing with the Stars 0.02589331952356292\n",
      "Bones 0.025116519937856033\n",
      "Brooklyn Nine-Nine 0.02459865354738477\n",
      "Bob's Burgers 0.02459865354738477\n",
      "Hell's Kitchen 0.024339720352149142\n",
      "Sleepy Hollow 0.023045054375970996\n",
      "Modern Family 0.02226825479026411\n"
     ]
    }
   ],
   "source": [
    "centrality = nx.degree_centrality(graph)\n",
    "\n",
    "sort_orders = sorted(centrality.items(), key=lambda x: x[1], reverse=True)\n",
    "\n",
    "degree_centr = []\n",
    "\n",
    "count=0\n",
    "for i in sort_orders:\n",
    "    if count==max_element:\n",
    "        break\n",
    "    count=count+1\n",
    "    print(i[0], i[1])\n",
    "    degree_centr.append(i[0])"
   ]
  },
  {
   "cell_type": "markdown",
   "metadata": {},
   "source": [
    "## Closeness Centrality\n",
    "This is based on the assumption that important nodes are close to other nodes."
   ]
  },
  {
   "cell_type": "code",
   "execution_count": 12,
   "metadata": {},
   "outputs": [
    {
     "name": "stdout",
     "output_type": "stream",
     "text": [
      "Queen of the South 0.26575832645196806\n",
      "Home & Family 0.2640864332603939\n",
      "Access 0.2594383984952304\n",
      "The Tonight Show Starring Jimmy Fallon 0.2537617451869374\n",
      "The Voice 0.2489043567929879\n",
      "The List 0.2461440407903123\n",
      "America's Got Talent 0.2456274247917064\n",
      "The Insider 0.2449575034885196\n",
      "The Biggest Loser 0.24326026706979087\n",
      "Entourage 0.242268364594442\n",
      "Parenthood 0.24125437281359322\n",
      "Jay Leno 0.24074304949507544\n",
      "Parks and Recreation 0.23992048207740574\n",
      "New Girl 0.23951872984371123\n",
      "Extra 0.23779323933255342\n"
     ]
    }
   ],
   "source": [
    "close_centrality = nx.closeness_centrality(graph) \n",
    "\n",
    "sort_orders = sorted(close_centrality.items(), key=lambda x: x[1], reverse=True)\n",
    "\n",
    "close_centr = []\n",
    "\n",
    "count=0\n",
    "for i in sort_orders:\n",
    "    if count==max_element:\n",
    "        break\n",
    "    count=count+1\n",
    "    print(i[0], i[1])\n",
    "    close_centr.append(i[0])"
   ]
  },
  {
   "cell_type": "markdown",
   "metadata": {},
   "source": [
    "## Betweenness Centrality\n",
    "It assumes that important nodes connect other nodes"
   ]
  },
  {
   "cell_type": "code",
   "execution_count": 13,
   "metadata": {},
   "outputs": [
    {
     "name": "stdout",
     "output_type": "stream",
     "text": [
      "Queen of the South 0.26575832645196806\n",
      "Home & Family 0.2640864332603939\n",
      "Access 0.2594383984952304\n",
      "The Tonight Show Starring Jimmy Fallon 0.2537617451869374\n",
      "The Voice 0.2489043567929879\n",
      "The List 0.2461440407903123\n",
      "America's Got Talent 0.2456274247917064\n",
      "The Insider 0.2449575034885196\n",
      "The Biggest Loser 0.24326026706979087\n",
      "Entourage 0.242268364594442\n",
      "Parenthood 0.24125437281359322\n",
      "Jay Leno 0.24074304949507544\n",
      "Parks and Recreation 0.23992048207740574\n",
      "New Girl 0.23951872984371123\n",
      "Extra 0.23779323933255342\n"
     ]
    }
   ],
   "source": [
    "bet_centrality = nx.betweenness_centrality(graph, normalized = True,  \n",
    "                                              endpoints = False)\n",
    "\n",
    "sort_orders = sorted(close_centrality.items(), key=lambda x: x[1], reverse=True)\n",
    "\n",
    "between_centr = []\n",
    "\n",
    "count=0\n",
    "for i in sort_orders:\n",
    "    if count==max_element:\n",
    "        break\n",
    "    count=count+1\n",
    "    print(i[0], i[1])\n",
    "    between_centr.append(i[0])"
   ]
  },
  {
   "cell_type": "markdown",
   "metadata": {},
   "source": [
    "## Page Rank\n",
    "Page Rank Algorithm was developed by Google founders to measure the importance of webpages from the hyperlink network structure. Page Rank assigns a score of importance to each node. Important nodes are those with many inlinks from important pages."
   ]
  },
  {
   "cell_type": "code",
   "execution_count": 14,
   "metadata": {},
   "outputs": [
    {
     "name": "stdout",
     "output_type": "stream",
     "text": [
      "Queen of the South 0.26575832645196806\n",
      "Home & Family 0.2640864332603939\n",
      "Access 0.2594383984952304\n",
      "The Tonight Show Starring Jimmy Fallon 0.2537617451869374\n",
      "The Voice 0.2489043567929879\n",
      "The List 0.2461440407903123\n",
      "America's Got Talent 0.2456274247917064\n",
      "The Insider 0.2449575034885196\n",
      "The Biggest Loser 0.24326026706979087\n",
      "Entourage 0.242268364594442\n",
      "Parenthood 0.24125437281359322\n",
      "Jay Leno 0.24074304949507544\n",
      "Parks and Recreation 0.23992048207740574\n",
      "New Girl 0.23951872984371123\n",
      "Extra 0.23779323933255342\n"
     ]
    }
   ],
   "source": [
    "pr = nx.pagerank(graph, alpha = 0.8)\n",
    "\n",
    "sort_orders = sorted(close_centrality.items(), key=lambda x: x[1], reverse=True)\n",
    "\n",
    "page_rank = []\n",
    "\n",
    "count=0\n",
    "for i in sort_orders:\n",
    "    if count==max_element:\n",
    "        break\n",
    "    count=count+1\n",
    "    print(i[0], i[1])\n",
    "    page_rank.append(i[0])"
   ]
  },
  {
   "cell_type": "markdown",
   "metadata": {},
   "source": [
    "### Here we can see the different result jointly"
   ]
  },
  {
   "cell_type": "code",
   "execution_count": 27,
   "metadata": {},
   "outputs": [
    {
     "data": {
      "text/html": [
       "<style  type=\"text/css\" >\n",
       "</style><table id=\"T_8c6899f0_27f2_11eb_bf18_54e1ad281be9\" ><thead>    <tr>        <th class=\"blank level0\" ></th>        <th class=\"col_heading level0 col0\" >Degree Centrality</th>        <th class=\"col_heading level0 col1\" >Closeness Centrality</th>        <th class=\"col_heading level0 col2\" >Betweenness Centrality</th>        <th class=\"col_heading level0 col3\" >Page Rank</th>    </tr></thead><tbody>\n",
       "                <tr>\n",
       "                        <th id=\"T_8c6899f0_27f2_11eb_bf18_54e1ad281be9level0_row0\" class=\"row_heading level0 row0\" >0</th>\n",
       "                        <td id=\"T_8c6899f0_27f2_11eb_bf18_54e1ad281be9row0_col0\" class=\"data row0 col0\" >Home & Family</td>\n",
       "                        <td id=\"T_8c6899f0_27f2_11eb_bf18_54e1ad281be9row0_col1\" class=\"data row0 col1\" >Queen of the South</td>\n",
       "                        <td id=\"T_8c6899f0_27f2_11eb_bf18_54e1ad281be9row0_col2\" class=\"data row0 col2\" >Queen of the South</td>\n",
       "                        <td id=\"T_8c6899f0_27f2_11eb_bf18_54e1ad281be9row0_col3\" class=\"data row0 col3\" >Queen of the South</td>\n",
       "            </tr>\n",
       "            <tr>\n",
       "                        <th id=\"T_8c6899f0_27f2_11eb_bf18_54e1ad281be9level0_row1\" class=\"row_heading level0 row1\" >1</th>\n",
       "                        <td id=\"T_8c6899f0_27f2_11eb_bf18_54e1ad281be9row1_col0\" class=\"data row1 col0\" >Queen of the South</td>\n",
       "                        <td id=\"T_8c6899f0_27f2_11eb_bf18_54e1ad281be9row1_col1\" class=\"data row1 col1\" >Home & Family</td>\n",
       "                        <td id=\"T_8c6899f0_27f2_11eb_bf18_54e1ad281be9row1_col2\" class=\"data row1 col2\" >Home & Family</td>\n",
       "                        <td id=\"T_8c6899f0_27f2_11eb_bf18_54e1ad281be9row1_col3\" class=\"data row1 col3\" >Home & Family</td>\n",
       "            </tr>\n",
       "            <tr>\n",
       "                        <th id=\"T_8c6899f0_27f2_11eb_bf18_54e1ad281be9level0_row2\" class=\"row_heading level0 row2\" >2</th>\n",
       "                        <td id=\"T_8c6899f0_27f2_11eb_bf18_54e1ad281be9row2_col0\" class=\"data row2 col0\" >So You Think You Can Dance</td>\n",
       "                        <td id=\"T_8c6899f0_27f2_11eb_bf18_54e1ad281be9row2_col1\" class=\"data row2 col1\" >Access</td>\n",
       "                        <td id=\"T_8c6899f0_27f2_11eb_bf18_54e1ad281be9row2_col2\" class=\"data row2 col2\" >Access</td>\n",
       "                        <td id=\"T_8c6899f0_27f2_11eb_bf18_54e1ad281be9row2_col3\" class=\"data row2 col3\" >Access</td>\n",
       "            </tr>\n",
       "            <tr>\n",
       "                        <th id=\"T_8c6899f0_27f2_11eb_bf18_54e1ad281be9level0_row3\" class=\"row_heading level0 row3\" >3</th>\n",
       "                        <td id=\"T_8c6899f0_27f2_11eb_bf18_54e1ad281be9row3_col0\" class=\"data row3 col0\" >MasterChef</td>\n",
       "                        <td id=\"T_8c6899f0_27f2_11eb_bf18_54e1ad281be9row3_col1\" class=\"data row3 col1\" >The Tonight Show Starring Jimmy Fallon</td>\n",
       "                        <td id=\"T_8c6899f0_27f2_11eb_bf18_54e1ad281be9row3_col2\" class=\"data row3 col2\" >The Tonight Show Starring Jimmy Fallon</td>\n",
       "                        <td id=\"T_8c6899f0_27f2_11eb_bf18_54e1ad281be9row3_col3\" class=\"data row3 col3\" >The Tonight Show Starring Jimmy Fallon</td>\n",
       "            </tr>\n",
       "            <tr>\n",
       "                        <th id=\"T_8c6899f0_27f2_11eb_bf18_54e1ad281be9level0_row4\" class=\"row_heading level0 row4\" >4</th>\n",
       "                        <td id=\"T_8c6899f0_27f2_11eb_bf18_54e1ad281be9row4_col0\" class=\"data row4 col0\" >Glee</td>\n",
       "                        <td id=\"T_8c6899f0_27f2_11eb_bf18_54e1ad281be9row4_col1\" class=\"data row4 col1\" >The Voice</td>\n",
       "                        <td id=\"T_8c6899f0_27f2_11eb_bf18_54e1ad281be9row4_col2\" class=\"data row4 col2\" >The Voice</td>\n",
       "                        <td id=\"T_8c6899f0_27f2_11eb_bf18_54e1ad281be9row4_col3\" class=\"data row4 col3\" >The Voice</td>\n",
       "            </tr>\n",
       "            <tr>\n",
       "                        <th id=\"T_8c6899f0_27f2_11eb_bf18_54e1ad281be9level0_row5\" class=\"row_heading level0 row5\" >5</th>\n",
       "                        <td id=\"T_8c6899f0_27f2_11eb_bf18_54e1ad281be9row5_col0\" class=\"data row5 col0\" >New Girl</td>\n",
       "                        <td id=\"T_8c6899f0_27f2_11eb_bf18_54e1ad281be9row5_col1\" class=\"data row5 col1\" >The List</td>\n",
       "                        <td id=\"T_8c6899f0_27f2_11eb_bf18_54e1ad281be9row5_col2\" class=\"data row5 col2\" >The List</td>\n",
       "                        <td id=\"T_8c6899f0_27f2_11eb_bf18_54e1ad281be9row5_col3\" class=\"data row5 col3\" >The List</td>\n",
       "            </tr>\n",
       "            <tr>\n",
       "                        <th id=\"T_8c6899f0_27f2_11eb_bf18_54e1ad281be9level0_row6\" class=\"row_heading level0 row6\" >6</th>\n",
       "                        <td id=\"T_8c6899f0_27f2_11eb_bf18_54e1ad281be9row6_col0\" class=\"data row6 col0\" >Family Guy</td>\n",
       "                        <td id=\"T_8c6899f0_27f2_11eb_bf18_54e1ad281be9row6_col1\" class=\"data row6 col1\" >America's Got Talent</td>\n",
       "                        <td id=\"T_8c6899f0_27f2_11eb_bf18_54e1ad281be9row6_col2\" class=\"data row6 col2\" >America's Got Talent</td>\n",
       "                        <td id=\"T_8c6899f0_27f2_11eb_bf18_54e1ad281be9row6_col3\" class=\"data row6 col3\" >America's Got Talent</td>\n",
       "            </tr>\n",
       "            <tr>\n",
       "                        <th id=\"T_8c6899f0_27f2_11eb_bf18_54e1ad281be9level0_row7\" class=\"row_heading level0 row7\" >7</th>\n",
       "                        <td id=\"T_8c6899f0_27f2_11eb_bf18_54e1ad281be9row7_col0\" class=\"data row7 col0\" >The Simpsons</td>\n",
       "                        <td id=\"T_8c6899f0_27f2_11eb_bf18_54e1ad281be9row7_col1\" class=\"data row7 col1\" >The Insider</td>\n",
       "                        <td id=\"T_8c6899f0_27f2_11eb_bf18_54e1ad281be9row7_col2\" class=\"data row7 col2\" >The Insider</td>\n",
       "                        <td id=\"T_8c6899f0_27f2_11eb_bf18_54e1ad281be9row7_col3\" class=\"data row7 col3\" >The Insider</td>\n",
       "            </tr>\n",
       "            <tr>\n",
       "                        <th id=\"T_8c6899f0_27f2_11eb_bf18_54e1ad281be9level0_row8\" class=\"row_heading level0 row8\" >8</th>\n",
       "                        <td id=\"T_8c6899f0_27f2_11eb_bf18_54e1ad281be9row8_col0\" class=\"data row8 col0\" >Dancing with the Stars</td>\n",
       "                        <td id=\"T_8c6899f0_27f2_11eb_bf18_54e1ad281be9row8_col1\" class=\"data row8 col1\" >The Biggest Loser</td>\n",
       "                        <td id=\"T_8c6899f0_27f2_11eb_bf18_54e1ad281be9row8_col2\" class=\"data row8 col2\" >The Biggest Loser</td>\n",
       "                        <td id=\"T_8c6899f0_27f2_11eb_bf18_54e1ad281be9row8_col3\" class=\"data row8 col3\" >The Biggest Loser</td>\n",
       "            </tr>\n",
       "            <tr>\n",
       "                        <th id=\"T_8c6899f0_27f2_11eb_bf18_54e1ad281be9level0_row9\" class=\"row_heading level0 row9\" >9</th>\n",
       "                        <td id=\"T_8c6899f0_27f2_11eb_bf18_54e1ad281be9row9_col0\" class=\"data row9 col0\" >Bones</td>\n",
       "                        <td id=\"T_8c6899f0_27f2_11eb_bf18_54e1ad281be9row9_col1\" class=\"data row9 col1\" >Entourage</td>\n",
       "                        <td id=\"T_8c6899f0_27f2_11eb_bf18_54e1ad281be9row9_col2\" class=\"data row9 col2\" >Entourage</td>\n",
       "                        <td id=\"T_8c6899f0_27f2_11eb_bf18_54e1ad281be9row9_col3\" class=\"data row9 col3\" >Entourage</td>\n",
       "            </tr>\n",
       "            <tr>\n",
       "                        <th id=\"T_8c6899f0_27f2_11eb_bf18_54e1ad281be9level0_row10\" class=\"row_heading level0 row10\" >10</th>\n",
       "                        <td id=\"T_8c6899f0_27f2_11eb_bf18_54e1ad281be9row10_col0\" class=\"data row10 col0\" >Brooklyn Nine-Nine</td>\n",
       "                        <td id=\"T_8c6899f0_27f2_11eb_bf18_54e1ad281be9row10_col1\" class=\"data row10 col1\" >Parenthood</td>\n",
       "                        <td id=\"T_8c6899f0_27f2_11eb_bf18_54e1ad281be9row10_col2\" class=\"data row10 col2\" >Parenthood</td>\n",
       "                        <td id=\"T_8c6899f0_27f2_11eb_bf18_54e1ad281be9row10_col3\" class=\"data row10 col3\" >Parenthood</td>\n",
       "            </tr>\n",
       "            <tr>\n",
       "                        <th id=\"T_8c6899f0_27f2_11eb_bf18_54e1ad281be9level0_row11\" class=\"row_heading level0 row11\" >11</th>\n",
       "                        <td id=\"T_8c6899f0_27f2_11eb_bf18_54e1ad281be9row11_col0\" class=\"data row11 col0\" >Bob's Burgers</td>\n",
       "                        <td id=\"T_8c6899f0_27f2_11eb_bf18_54e1ad281be9row11_col1\" class=\"data row11 col1\" >Jay Leno</td>\n",
       "                        <td id=\"T_8c6899f0_27f2_11eb_bf18_54e1ad281be9row11_col2\" class=\"data row11 col2\" >Jay Leno</td>\n",
       "                        <td id=\"T_8c6899f0_27f2_11eb_bf18_54e1ad281be9row11_col3\" class=\"data row11 col3\" >Jay Leno</td>\n",
       "            </tr>\n",
       "            <tr>\n",
       "                        <th id=\"T_8c6899f0_27f2_11eb_bf18_54e1ad281be9level0_row12\" class=\"row_heading level0 row12\" >12</th>\n",
       "                        <td id=\"T_8c6899f0_27f2_11eb_bf18_54e1ad281be9row12_col0\" class=\"data row12 col0\" >Hell's Kitchen</td>\n",
       "                        <td id=\"T_8c6899f0_27f2_11eb_bf18_54e1ad281be9row12_col1\" class=\"data row12 col1\" >Parks and Recreation</td>\n",
       "                        <td id=\"T_8c6899f0_27f2_11eb_bf18_54e1ad281be9row12_col2\" class=\"data row12 col2\" >Parks and Recreation</td>\n",
       "                        <td id=\"T_8c6899f0_27f2_11eb_bf18_54e1ad281be9row12_col3\" class=\"data row12 col3\" >Parks and Recreation</td>\n",
       "            </tr>\n",
       "            <tr>\n",
       "                        <th id=\"T_8c6899f0_27f2_11eb_bf18_54e1ad281be9level0_row13\" class=\"row_heading level0 row13\" >13</th>\n",
       "                        <td id=\"T_8c6899f0_27f2_11eb_bf18_54e1ad281be9row13_col0\" class=\"data row13 col0\" >Sleepy Hollow</td>\n",
       "                        <td id=\"T_8c6899f0_27f2_11eb_bf18_54e1ad281be9row13_col1\" class=\"data row13 col1\" >New Girl</td>\n",
       "                        <td id=\"T_8c6899f0_27f2_11eb_bf18_54e1ad281be9row13_col2\" class=\"data row13 col2\" >New Girl</td>\n",
       "                        <td id=\"T_8c6899f0_27f2_11eb_bf18_54e1ad281be9row13_col3\" class=\"data row13 col3\" >New Girl</td>\n",
       "            </tr>\n",
       "            <tr>\n",
       "                        <th id=\"T_8c6899f0_27f2_11eb_bf18_54e1ad281be9level0_row14\" class=\"row_heading level0 row14\" >14</th>\n",
       "                        <td id=\"T_8c6899f0_27f2_11eb_bf18_54e1ad281be9row14_col0\" class=\"data row14 col0\" >Modern Family</td>\n",
       "                        <td id=\"T_8c6899f0_27f2_11eb_bf18_54e1ad281be9row14_col1\" class=\"data row14 col1\" >Extra</td>\n",
       "                        <td id=\"T_8c6899f0_27f2_11eb_bf18_54e1ad281be9row14_col2\" class=\"data row14 col2\" >Extra</td>\n",
       "                        <td id=\"T_8c6899f0_27f2_11eb_bf18_54e1ad281be9row14_col3\" class=\"data row14 col3\" >Extra</td>\n",
       "            </tr>\n",
       "    </tbody></table>"
      ],
      "text/plain": [
       "<pandas.io.formats.style.Styler at 0x15c23a97220>"
      ]
     },
     "execution_count": 27,
     "metadata": {},
     "output_type": "execute_result"
    }
   ],
   "source": [
    "df = pd.DataFrame()\n",
    "df[\"Degree Centrality\"] = degree_centr\n",
    "df[\"Closeness Centrality\"] = close_centr\n",
    "df[\"Betweenness Centrality\"] = between_centr\n",
    "df[\"Page Rank\"] = page_rank\n",
    "df.style"
   ]
  },
  {
   "cell_type": "markdown",
   "metadata": {},
   "source": [
    "# Isolation and Connectivity"
   ]
  },
  {
   "cell_type": "code",
   "execution_count": 16,
   "metadata": {},
   "outputs": [
    {
     "name": "stdout",
     "output_type": "stream",
     "text": [
      "[]\n"
     ]
    }
   ],
   "source": [
    "print(list(nx.isolates(graph)))"
   ]
  },
  {
   "cell_type": "code",
   "execution_count": 17,
   "metadata": {},
   "outputs": [
    {
     "name": "stdout",
     "output_type": "stream",
     "text": [
      "True\n",
      "1\n"
     ]
    }
   ],
   "source": [
    "print(nx.is_connected(graph))\n",
    "print(nx.number_connected_components(graph))"
   ]
  },
  {
   "cell_type": "markdown",
   "metadata": {},
   "source": [
    "So, we have no isolated component which mean that our graph is connected and it has only one (big) connected component "
   ]
  },
  {
   "cell_type": "markdown",
   "metadata": {},
   "source": [
    "# ECDF in linear e logscale\n",
    "Here we analyse the degree distribution of our network and turns out that our graph is a scale-free network (like most of the real-world case) because it follow a power law degree distribution (heavy-tail distribution)."
   ]
  },
  {
   "cell_type": "code",
   "execution_count": 18,
   "metadata": {},
   "outputs": [
    {
     "data": {
      "text/plain": [
       "Text(0, 0.5, 'ECDF TV Show')"
      ]
     },
     "execution_count": 18,
     "metadata": {},
     "output_type": "execute_result"
    },
    {
     "data": {
      "image/png": "[encoded data removed]",
      "text/plain": [
       "<Figure size 576x288 with 1 Axes>"
      ]
     },
     "metadata": {
      "needs_background": "light"
     },
     "output_type": "display_data"
    }
   ],
   "source": [
    "# ECDF linear scale\n",
    "cdf = ECDF(graph_degree)\n",
    "x = np.unique(graph_degree)\n",
    "y = cdf(x)\n",
    "fig_cdf = plt.figure(figsize=(8,4))\n",
    "axes = fig_cdf.gca()\n",
    "axes.plot(x,y,marker='o',ms=6, linestyle='None')\n",
    "axes.set_xlabel('Degree',size=20)\n",
    "axes.set_ylabel('ECDF TV Show', size = 20)"
   ]
  },
  {
   "cell_type": "code",
   "execution_count": 19,
   "metadata": {},
   "outputs": [
    {
     "data": {
      "text/plain": [
       "Text(0, 0.5, 'ECDF TV Show')"
      ]
     },
     "execution_count": 19,
     "metadata": {},
     "output_type": "execute_result"
    },
    {
     "data": {
      "image/png": "[encoded data removed]",
      "text/plain": [
       "<Figure size 576x288 with 1 Axes>"
      ]
     },
     "metadata": {
      "needs_background": "light"
     },
     "output_type": "display_data"
    }
   ],
   "source": [
    "# ECDF loglog scale\n",
    "cdf = ECDF(graph_degree)\n",
    "x = np.unique(graph_degree)\n",
    "y = cdf(x)\n",
    "fig_cdf = plt.figure(figsize=(8,4))\n",
    "axes = fig_cdf.gca()\n",
    "axes.loglog(x,y,marker='o',ms=8, linestyle='--')\n",
    "axes.set_xlabel('Degree',size=20)\n",
    "axes.set_ylabel('ECDF TV Show', size = 20)"
   ]
  },
  {
   "cell_type": "code",
   "execution_count": 20,
   "metadata": {},
   "outputs": [
    {
     "data": {
      "text/plain": [
       "Text(0, 0.5, 'ECDF TV Show')"
      ]
     },
     "execution_count": 20,
     "metadata": {},
     "output_type": "execute_result"
    },
    {
     "data": {
      "image/png": "[encoded data removed]",
      "text/plain": [
       "<Figure size 576x288 with 1 Axes>"
      ]
     },
     "metadata": {
      "needs_background": "light"
     },
     "output_type": "display_data"
    }
   ],
   "source": [
    "# ECCDF\n",
    "cdf = ECDF(graph_degree)\n",
    "x = np.unique(graph_degree)\n",
    "y = cdf(x)\n",
    "fig_cdf = plt.figure(figsize=(8,4))\n",
    "axes = fig_cdf.gca()\n",
    "axes.loglog(x,1-y,marker='o',ms=8, linestyle='--')\n",
    "axes.set_xlabel('Degree',size=20)\n",
    "axes.set_ylabel('ECDF TV Show', size = 20)"
   ]
  },
  {
   "cell_type": "markdown",
   "metadata": {},
   "source": [
    "Now we can compare it with an Erdos-Renyi random network model to realize if the phenomenon carries information of if it is random.\n",
    "First we calculate the densitiy for our starting network and we see that, as expected, is low."
   ]
  },
  {
   "cell_type": "code",
   "execution_count": 21,
   "metadata": {},
   "outputs": [
    {
     "name": "stdout",
     "output_type": "stream",
     "text": [
      "Density: 0.0023129041767539792\n"
     ]
    }
   ],
   "source": [
    "density = nx.density(graph)\n",
    "print('Density: {}'.format(density))"
   ]
  },
  {
   "cell_type": "markdown",
   "metadata": {},
   "source": [
    "We use the density as parameter p of the Erdos-Renyi model, i.e. the probability that each pair of N labeled nodes is connected. The number of nodes of the two network must be equal and the number of links should be similiar."
   ]
  },
  {
   "cell_type": "code",
   "execution_count": 22,
   "metadata": {},
   "outputs": [
    {
     "name": "stdout",
     "output_type": "stream",
     "text": [
      "Number of nodes: 3863 - Number of links:17253 -> TV-Show netowrk\n",
      "Number of nodes: 3863 -> random network\n",
      "Number of links: 17285 -> random network\n"
     ]
    }
   ],
   "source": [
    "p = density\n",
    "\n",
    "random_graph = nx.fast_gnp_random_graph(graph.order(),p)\n",
    "\n",
    "print('Number of nodes: {} - Number of links:{} -> TV-Show netowrk'.format(graph.order(),graph.size()))\n",
    "print('Number of nodes: {} -> random network'.format(random_graph.order()))\n",
    "print('Number of links: {} -> random network'.format(random_graph.size()))\n",
    "\n",
    "random_degree = list(dict(random_graph.degree()).values())"
   ]
  },
  {
   "cell_type": "code",
   "execution_count": 23,
   "metadata": {},
   "outputs": [
    {
     "data": {
      "text/plain": [
       "Text(0, 0.5, 'ECCDF')"
      ]
     },
     "execution_count": 23,
     "metadata": {},
     "output_type": "execute_result"
    },
    {
     "data": {
      "image/png": "[encoded data removed]",
      "text/plain": [
       "<Figure size 576x288 with 1 Axes>"
      ]
     },
     "metadata": {
      "needs_background": "light"
     },
     "output_type": "display_data"
    }
   ],
   "source": [
    "cdf = ECDF(graph_degree)\n",
    "x = np.unique(graph_degree)\n",
    "y = cdf(x)\n",
    "\n",
    "cdf_random = ECDF(random_degree)\n",
    "x_random = np.unique(random_degree)\n",
    "y_random = cdf_random(x_random)\n",
    "\n",
    "fig_cdf_fb = plt.figure(figsize=(8,4))\n",
    "axes = fig_cdf_fb.gca()\n",
    "axes.set_xscale('log')\n",
    "axes.set_yscale('log')\n",
    "axes.loglog(x,1-y,marker='o',ms=8, linestyle='--')\n",
    "axes.loglog(x_random,1-y_random,marker='+',ms=10, linestyle='--')\n",
    "axes.set_xlabel('Degree',size=20)\n",
    "axes.set_ylabel('ECCDF', size = 20)"
   ]
  },
  {
   "cell_type": "markdown",
   "metadata": {},
   "source": [
    "We can see that they behave in a similar manner"
   ]
  },
  {
   "cell_type": "markdown",
   "metadata": {},
   "source": [
    "# Hubs\n",
    "Since we saw that we are talking about a scale-free network we can also say if there exist some hubs, by deeper analyse the degree distribution."
   ]
  },
  {
   "cell_type": "code",
   "execution_count": 24,
   "metadata": {},
   "outputs": [
    {
     "name": "stdout",
     "output_type": "stream",
     "text": [
      "65.0\n",
      "40\n",
      "['American Grit', 'Wayward Pines', 'MasterChef', 'The Grinder', 'FOX Teen Choice Awards', 'Rosewood', 'Scream Queens', 'New Girl', 'Gotham', 'Family Guy', 'Grandfathered', 'Empire', 'Second Chance', 'So You Think You Can Dance', 'The Simpsons', 'Glee', 'MasterChef Junior', 'Bones', 'Sleepy Hollow', 'Lucifer', \"Hell's Kitchen\", '24: Legacy', 'My Kitchen Rules', 'Brooklyn Nine-Nine', 'Hotel Hell', 'The Last Man on Earth', \"Bob's Burgers\", 'The Bachelorette', 'Castle', 'Dancing with the Stars', 'The Middle', 'Modern Family', 'The View', 'Once Upon a Time', 'Revenge', 'Suburgatory', 'Rookie Blue', 'Home & Family', 'Queen of the South', 'tagesschau']\n"
     ]
    }
   ],
   "source": [
    "percentile_99 = np.percentile(graph_degree,99)\n",
    "print(percentile_99)\n",
    "\n",
    "hub_nodi = [k for k,v in dict(graph.degree()).items() if v>= percentile_99]\n",
    "\n",
    "print(len(hub_nodi))\n",
    "print(list(hub_nodi))"
   ]
  },
  {
   "cell_type": "markdown",
   "metadata": {},
   "source": [
    "# Conclusion"
   ]
  },
  {
   "cell_type": "markdown",
   "metadata": {},
   "source": [
    "From our degree analysis we see that different method (basing on different assumption) gives us different result.\n",
    "From last analysis, the one about hubs, we can see that there are some - let's say - important node in our network and not all of them appear in our degree analysis (and vice versa)."
   ]
  },
  {
   "cell_type": "code",
   "execution_count": null,
   "metadata": {},
   "outputs": [],
   "source": []
  }
 ],
 "metadata": {
  "kernelspec": {
   "display_name": "Python 3",
   "language": "python",
   "name": "python3"
  },
  "language_info": {
   "codemirror_mode": {
    "name": "ipython",
    "version": 3
   },
   "file_extension": ".py",
   "mimetype": "text/x-python",
   "name": "python",
   "nbconvert_exporter": "python",
   "pygments_lexer": "ipython3",
   "version": "3.8.3"
  }
 },
 "nbformat": 4,
 "nbformat_minor": 4
}
