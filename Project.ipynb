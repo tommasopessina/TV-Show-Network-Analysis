{
 "cells": [
  {
   "cell_type": "markdown",
   "metadata": {},
   "source": [
    "# TV-Show Social Network Analysis\n",
    "## Dataset\n",
    "Each node rapresent the Facebook page of a TV-Show and the links indicate the common like that the two page shares."
   ]
  },
  {
   "cell_type": "markdown",
   "metadata": {},
   "source": [
    "Firslty we import the necessary library for calling external function"
   ]
  },
  {
   "cell_type": "code",
   "execution_count": 1,
   "metadata": {},
   "outputs": [],
   "source": [
    "import networkx as nx\n",
    "import pandas as pd\n",
    "import numpy as np\n",
    "from statsmodels.distributions.empirical_distribution import ECDF\n",
    "import matplotlib.pyplot as plt"
   ]
  },
  {
   "cell_type": "markdown",
   "metadata": {},
   "source": [
    "Create the graph, read the file and add edge and nodes "
   ]
  },
  {
   "cell_type": "code",
   "execution_count": 2,
   "metadata": {},
   "outputs": [
    {
     "name": "stdout",
     "output_type": "stream",
     "text": [
      "Number of nodes: 3892 - Number of links:17261\n"
     ]
    }
   ],
   "source": [
    "graph = nx.Graph()\n",
    "graph_edge_list=nx.Graph()\n",
    "\n",
    "with open('fb-pages-tvshowEDGE.csv') as f:\n",
    "    f.readline()\n",
    "    for line in f:\n",
    "        source, destination = line.strip().split(',') #tuple\n",
    "        graph.add_edge(source,destination)\n",
    "        \n",
    "print('Number of nodes: {} - Number of links:{}'.format(graph.order(),graph.size()))"
   ]
  },
  {
   "cell_type": "markdown",
   "metadata": {},
   "source": [
    "Read the nodes labels from file and relabel the graph nodes"
   ]
  },
  {
   "cell_type": "code",
   "execution_count": 3,
   "metadata": {},
   "outputs": [],
   "source": [
    "labels = {}\n",
    "\n",
    "df = pd.read_csv(\"fb-pages-tvshowNODES.csv\")\n",
    "\n",
    "df = df[~df.isin([np.nan, np.inf, -np.inf]).any(1)]\n",
    "\n",
    "for index, row in df.iterrows():\n",
    "    tmp = int(row[\"Id\"])\n",
    "    labels[str(tmp)] = str(row[\"name\"])\n",
    "    \n",
    "graph = nx.relabel_nodes(graph, labels)\n",
    "\n",
    "pos = nx.spring_layout(graph)"
   ]
  },
  {
   "cell_type": "markdown",
   "metadata": {},
   "source": [
    "Run some statistics over the network"
   ]
  },
  {
   "cell_type": "code",
   "execution_count": 4,
   "metadata": {},
   "outputs": [
    {
     "name": "stdout",
     "output_type": "stream",
     "text": [
      "Mean degree: 8.932435930623868\n",
      "Median degree: 5.0\n",
      "Standard Deviation: 12.658862276836015\n",
      "Max degree value: 126\n",
      "Min degree value: 1\n",
      "Assortativity coefficient: 0.5524458314376266\n"
     ]
    }
   ],
   "source": [
    "graph_degree=list(dict(graph.degree()).values())\n",
    "\n",
    "print(\"Mean degree: \"+ str(np.mean(graph_degree)))\n",
    "print(\"Median degree: \" + str(np.median(graph_degree))) \n",
    "print(\"Standard Deviation: \"+ str(np.std(graph_degree)))\n",
    "print(\"Max degree value: \" + str(np.max(graph_degree)))\n",
    "print(\"Min degree value: \" + str(np.min(graph_degree)))\n",
    "\n",
    "print(\"Assortativity coefficient: \" + str(nx.degree_assortativity_coefficient(graph)))"
   ]
  },
  {
   "cell_type": "markdown",
   "metadata": {},
   "source": [
    "Expecially from the assortativity coefficient (if we normalise it) we see that the network is assortative.\n",
    "Now we can run a first simple degree analysis by keep in mind that by degree we mean the sum of out-link and in-link of a node."
   ]
  },
  {
   "cell_type": "code",
   "execution_count": 27,
   "metadata": {},
   "outputs": [
    {
     "name": "stdout",
     "output_type": "stream",
     "text": [
      "Modern Family has degree 86\n",
      "The Office has degree 45\n",
      "Hell's Kitchen has degree 94\n",
      "The Big Bang Theory has degree 36\n",
      "Friends has degree 10\n",
      "Kevin Can Wait has degree 4\n"
     ]
    }
   ],
   "source": [
    "def getKey(label):\n",
    "    keys = list(labels.keys())\n",
    "    vals = list(labels.values())\n",
    "    key = keys[vals.index(label)]\n",
    "    return key\n",
    "\n",
    "print(\"Modern Family has degree \" + str(graph.degree[\"Modern Family\"]))\n",
    "print(\"The Office has degree \" + str(graph.degree[\"The Office\"]))\n",
    "print(\"Hell's Kitchen has degree \" + str(graph.degree[\"Hell's Kitchen\"]))\n",
    "print(\"The Big Bang Theory has degree \" + str(graph.degree[\"The Big Bang Theory\"]))\n",
    "print(\"Friends has degree \" + str(graph.degree[\"FRIENDS (TV Show)\"]))\n",
    "print(\"Kevin Can Wait has degree \" + str(graph.degree[\"Kevin Can Wait\"]))"
   ]
  },
  {
   "cell_type": "markdown",
   "metadata": {},
   "source": [
    "For instance we can see that old tv-show like \"Friends\" has a low degree value, maybe because there is not too much tv-show that share the same success in the same period of time.\n",
    "Moreover the tv-show \"Kevin Can Wait\", that after the first season the approval index has dropped drastically and fewer people continued to watch it during the second season, the degree value is even lower. So this can confirm that this series was not so good."
   ]
  },
  {
   "cell_type": "markdown",
   "metadata": {},
   "source": [
    "# Degree analysis\n",
    "Now we can deeper analyise our network at the degree level.\n",
    "First we need to define some constant."
   ]
  },
  {
   "cell_type": "code",
   "execution_count": 6,
   "metadata": {},
   "outputs": [],
   "source": [
    "max_element = 15"
   ]
  },
  {
   "cell_type": "markdown",
   "metadata": {},
   "source": [
    "## Transitivity and clustering coefficient"
   ]
  },
  {
   "cell_type": "code",
   "execution_count": 7,
   "metadata": {},
   "outputs": [
    {
     "name": "stdout",
     "output_type": "stream",
     "text": [
      "Transitivity: 0.5862432485779396\n",
      "Average local clustering: 0.3743586545631158\n"
     ]
    }
   ],
   "source": [
    "print(\"Transitivity: \" + str(nx.transitivity(graph)))\n",
    "print('Average local clustering: ' + str(nx.average_clustering(graph)))"
   ]
  },
  {
   "cell_type": "code",
   "execution_count": 8,
   "metadata": {},
   "outputs": [
    {
     "name": "stdout",
     "output_type": "stream",
     "text": [
      "Mean local clustering: 0.37435865456311496\n",
      "Standard deviation local clustering: 0.35333763348098524\n"
     ]
    }
   ],
   "source": [
    "# computing point statistics\n",
    "local_clustering=nx.clustering(graph)\n",
    "list_local_clustering=list(local_clustering.values())\n",
    "print('Mean local clustering: {}'.format(np.mean(list_local_clustering)))\n",
    "print('Standard deviation local clustering: {}'.format(np.std(list_local_clustering)))"
   ]
  },
  {
   "cell_type": "markdown",
   "metadata": {},
   "source": [
    "Now we can analyise the local cluster coefficient of some node.\n",
    "In order to having a more informative result, we sort the result by the last node. We can see that the node with smallest local clustering coefficient is the tv-show \"Kevin Can Wait\", again this can be due to the motivation previous explained."
   ]
  },
  {
   "cell_type": "code",
   "execution_count": 28,
   "metadata": {},
   "outputs": [
    {
     "data": {
      "text/html": [
       "<style  type=\"text/css\" >\n",
       "</style><table id=\"T_f97b2526_284a_11eb_8b5c_54e1ad281be9\" ><thead>    <tr>        <th class=\"blank level0\" ></th>        <th class=\"col_heading level0 col0\" >TV-show name</th>        <th class=\"col_heading level0 col1\" >Local cluster coefficient</th>    </tr></thead><tbody>\n",
       "                <tr>\n",
       "                        <th id=\"T_f97b2526_284a_11eb_8b5c_54e1ad281be9level0_row0\" class=\"row_heading level0 row0\" >0</th>\n",
       "                        <td id=\"T_f97b2526_284a_11eb_8b5c_54e1ad281be9row0_col0\" class=\"data row0 col0\" >Kevin Can Wait</td>\n",
       "                        <td id=\"T_f97b2526_284a_11eb_8b5c_54e1ad281be9row0_col1\" class=\"data row0 col1\" >0</td>\n",
       "            </tr>\n",
       "            <tr>\n",
       "                        <th id=\"T_f97b2526_284a_11eb_8b5c_54e1ad281be9level0_row1\" class=\"row_heading level0 row1\" >1</th>\n",
       "                        <td id=\"T_f97b2526_284a_11eb_8b5c_54e1ad281be9row1_col0\" class=\"data row1 col0\" >TVR</td>\n",
       "                        <td id=\"T_f97b2526_284a_11eb_8b5c_54e1ad281be9row1_col1\" class=\"data row1 col1\" >0</td>\n",
       "            </tr>\n",
       "            <tr>\n",
       "                        <th id=\"T_f97b2526_284a_11eb_8b5c_54e1ad281be9level0_row2\" class=\"row_heading level0 row2\" >2</th>\n",
       "                        <td id=\"T_f97b2526_284a_11eb_8b5c_54e1ad281be9row2_col0\" class=\"data row2 col0\" >Duro de Domar</td>\n",
       "                        <td id=\"T_f97b2526_284a_11eb_8b5c_54e1ad281be9row2_col1\" class=\"data row2 col1\" >0</td>\n",
       "            </tr>\n",
       "            <tr>\n",
       "                        <th id=\"T_f97b2526_284a_11eb_8b5c_54e1ad281be9level0_row3\" class=\"row_heading level0 row3\" >3</th>\n",
       "                        <td id=\"T_f97b2526_284a_11eb_8b5c_54e1ad281be9row3_col0\" class=\"data row3 col0\" >Adán y Eva</td>\n",
       "                        <td id=\"T_f97b2526_284a_11eb_8b5c_54e1ad281be9row3_col1\" class=\"data row3 col1\" >0</td>\n",
       "            </tr>\n",
       "            <tr>\n",
       "                        <th id=\"T_f97b2526_284a_11eb_8b5c_54e1ad281be9level0_row4\" class=\"row_heading level0 row4\" >4</th>\n",
       "                        <td id=\"T_f97b2526_284a_11eb_8b5c_54e1ad281be9row4_col0\" class=\"data row4 col0\" >Outside the Lines</td>\n",
       "                        <td id=\"T_f97b2526_284a_11eb_8b5c_54e1ad281be9row4_col1\" class=\"data row4 col1\" >0</td>\n",
       "            </tr>\n",
       "            <tr>\n",
       "                        <th id=\"T_f97b2526_284a_11eb_8b5c_54e1ad281be9level0_row5\" class=\"row_heading level0 row5\" >5</th>\n",
       "                        <td id=\"T_f97b2526_284a_11eb_8b5c_54e1ad281be9row5_col0\" class=\"data row5 col0\" >JTBC 뉴스룸 팩트체크</td>\n",
       "                        <td id=\"T_f97b2526_284a_11eb_8b5c_54e1ad281be9row5_col1\" class=\"data row5 col1\" >0</td>\n",
       "            </tr>\n",
       "            <tr>\n",
       "                        <th id=\"T_f97b2526_284a_11eb_8b5c_54e1ad281be9level0_row6\" class=\"row_heading level0 row6\" >6</th>\n",
       "                        <td id=\"T_f97b2526_284a_11eb_8b5c_54e1ad281be9row6_col0\" class=\"data row6 col0\" >879</td>\n",
       "                        <td id=\"T_f97b2526_284a_11eb_8b5c_54e1ad281be9row6_col1\" class=\"data row6 col1\" >0</td>\n",
       "            </tr>\n",
       "            <tr>\n",
       "                        <th id=\"T_f97b2526_284a_11eb_8b5c_54e1ad281be9level0_row7\" class=\"row_heading level0 row7\" >7</th>\n",
       "                        <td id=\"T_f97b2526_284a_11eb_8b5c_54e1ad281be9row7_col0\" class=\"data row7 col0\" >Life In Pieces</td>\n",
       "                        <td id=\"T_f97b2526_284a_11eb_8b5c_54e1ad281be9row7_col1\" class=\"data row7 col1\" >0</td>\n",
       "            </tr>\n",
       "            <tr>\n",
       "                        <th id=\"T_f97b2526_284a_11eb_8b5c_54e1ad281be9level0_row8\" class=\"row_heading level0 row8\" >8</th>\n",
       "                        <td id=\"T_f97b2526_284a_11eb_8b5c_54e1ad281be9row8_col0\" class=\"data row8 col0\" >Mundo Cristiano</td>\n",
       "                        <td id=\"T_f97b2526_284a_11eb_8b5c_54e1ad281be9row8_col1\" class=\"data row8 col1\" >0</td>\n",
       "            </tr>\n",
       "            <tr>\n",
       "                        <th id=\"T_f97b2526_284a_11eb_8b5c_54e1ad281be9level0_row9\" class=\"row_heading level0 row9\" >9</th>\n",
       "                        <td id=\"T_f97b2526_284a_11eb_8b5c_54e1ad281be9row9_col0\" class=\"data row9 col0\" >Poppy Cat</td>\n",
       "                        <td id=\"T_f97b2526_284a_11eb_8b5c_54e1ad281be9row9_col1\" class=\"data row9 col1\" >0</td>\n",
       "            </tr>\n",
       "            <tr>\n",
       "                        <th id=\"T_f97b2526_284a_11eb_8b5c_54e1ad281be9level0_row10\" class=\"row_heading level0 row10\" >10</th>\n",
       "                        <td id=\"T_f97b2526_284a_11eb_8b5c_54e1ad281be9row10_col0\" class=\"data row10 col0\" >Dora the Explorer</td>\n",
       "                        <td id=\"T_f97b2526_284a_11eb_8b5c_54e1ad281be9row10_col1\" class=\"data row10 col1\" >0</td>\n",
       "            </tr>\n",
       "            <tr>\n",
       "                        <th id=\"T_f97b2526_284a_11eb_8b5c_54e1ad281be9level0_row11\" class=\"row_heading level0 row11\" >11</th>\n",
       "                        <td id=\"T_f97b2526_284a_11eb_8b5c_54e1ad281be9row11_col0\" class=\"data row11 col0\" >Bachelor in Paradise</td>\n",
       "                        <td id=\"T_f97b2526_284a_11eb_8b5c_54e1ad281be9row11_col1\" class=\"data row11 col1\" >0</td>\n",
       "            </tr>\n",
       "            <tr>\n",
       "                        <th id=\"T_f97b2526_284a_11eb_8b5c_54e1ad281be9level0_row12\" class=\"row_heading level0 row12\" >12</th>\n",
       "                        <td id=\"T_f97b2526_284a_11eb_8b5c_54e1ad281be9row12_col0\" class=\"data row12 col0\" >Gomorron Sverige</td>\n",
       "                        <td id=\"T_f97b2526_284a_11eb_8b5c_54e1ad281be9row12_col1\" class=\"data row12 col1\" >0</td>\n",
       "            </tr>\n",
       "            <tr>\n",
       "                        <th id=\"T_f97b2526_284a_11eb_8b5c_54e1ad281be9level0_row13\" class=\"row_heading level0 row13\" >13</th>\n",
       "                        <td id=\"T_f97b2526_284a_11eb_8b5c_54e1ad281be9row13_col0\" class=\"data row13 col0\" >HBO Game of Thrones BR</td>\n",
       "                        <td id=\"T_f97b2526_284a_11eb_8b5c_54e1ad281be9row13_col1\" class=\"data row13 col1\" >0</td>\n",
       "            </tr>\n",
       "            <tr>\n",
       "                        <th id=\"T_f97b2526_284a_11eb_8b5c_54e1ad281be9level0_row14\" class=\"row_heading level0 row14\" >14</th>\n",
       "                        <td id=\"T_f97b2526_284a_11eb_8b5c_54e1ad281be9row14_col0\" class=\"data row14 col0\" >Music Day & ベストアーティスト</td>\n",
       "                        <td id=\"T_f97b2526_284a_11eb_8b5c_54e1ad281be9row14_col1\" class=\"data row14 col1\" >0</td>\n",
       "            </tr>\n",
       "    </tbody></table>"
      ],
      "text/plain": [
       "<pandas.io.formats.style.Styler at 0x1f831531430>"
      ]
     },
     "execution_count": 28,
     "metadata": {},
     "output_type": "execute_result"
    }
   ],
   "source": [
    "clustering = nx.clustering(graph)\n",
    "cluster = sorted(clustering.items(), key=lambda x: x[1], reverse=False)\n",
    "\n",
    "clust = []\n",
    "name = []\n",
    "dfc = pd.DataFrame()\n",
    "\n",
    "count=0\n",
    "for i in cluster:\n",
    "    if count==max_element:\n",
    "        break\n",
    "    count=count+1\n",
    "    name.append(i[0])\n",
    "    clust.append(i[1])  \n",
    "\n",
    "dfc[\"TV-show name\"] = name\n",
    "dfc[\"Local cluster coefficient\"] = clust\n",
    "dfc.style"
   ]
  },
  {
   "cell_type": "markdown",
   "metadata": {},
   "source": [
    "Now we can analyise, for every nodes, how many triangles it has. By triangle we mean a path of lenght 2, between 3 nodes, which start and end in the same node and include two other different node that are connected to the starting one and togheter as well."
   ]
  },
  {
   "cell_type": "code",
   "execution_count": 10,
   "metadata": {},
   "outputs": [
    {
     "data": {
      "text/html": [
       "<style  type=\"text/css\" >\n",
       "</style><table id=\"T_c819ec66_2848_11eb_84d5_54e1ad281be9\" ><thead>    <tr>        <th class=\"blank level0\" ></th>        <th class=\"col_heading level0 col0\" >TV-show name</th>        <th class=\"col_heading level0 col1\" >Number of Triangle</th>    </tr></thead><tbody>\n",
       "                <tr>\n",
       "                        <th id=\"T_c819ec66_2848_11eb_84d5_54e1ad281be9level0_row0\" class=\"row_heading level0 row0\" >0</th>\n",
       "                        <td id=\"T_c819ec66_2848_11eb_84d5_54e1ad281be9row0_col0\" class=\"data row0 col0\" >New Girl</td>\n",
       "                        <td id=\"T_c819ec66_2848_11eb_84d5_54e1ad281be9row0_col1\" class=\"data row0 col1\" >2584</td>\n",
       "            </tr>\n",
       "            <tr>\n",
       "                        <th id=\"T_c819ec66_2848_11eb_84d5_54e1ad281be9level0_row1\" class=\"row_heading level0 row1\" >1</th>\n",
       "                        <td id=\"T_c819ec66_2848_11eb_84d5_54e1ad281be9row1_col0\" class=\"data row1 col0\" >So You Think You Can Dance</td>\n",
       "                        <td id=\"T_c819ec66_2848_11eb_84d5_54e1ad281be9row1_col1\" class=\"data row1 col1\" >2579</td>\n",
       "            </tr>\n",
       "            <tr>\n",
       "                        <th id=\"T_c819ec66_2848_11eb_84d5_54e1ad281be9level0_row2\" class=\"row_heading level0 row2\" >2</th>\n",
       "                        <td id=\"T_c819ec66_2848_11eb_84d5_54e1ad281be9row2_col0\" class=\"data row2 col0\" >Bones</td>\n",
       "                        <td id=\"T_c819ec66_2848_11eb_84d5_54e1ad281be9row2_col1\" class=\"data row2 col1\" >2555</td>\n",
       "            </tr>\n",
       "            <tr>\n",
       "                        <th id=\"T_c819ec66_2848_11eb_84d5_54e1ad281be9level0_row3\" class=\"row_heading level0 row3\" >3</th>\n",
       "                        <td id=\"T_c819ec66_2848_11eb_84d5_54e1ad281be9row3_col0\" class=\"data row3 col0\" >Bob's Burgers</td>\n",
       "                        <td id=\"T_c819ec66_2848_11eb_84d5_54e1ad281be9row3_col1\" class=\"data row3 col1\" >2517</td>\n",
       "            </tr>\n",
       "            <tr>\n",
       "                        <th id=\"T_c819ec66_2848_11eb_84d5_54e1ad281be9level0_row4\" class=\"row_heading level0 row4\" >4</th>\n",
       "                        <td id=\"T_c819ec66_2848_11eb_84d5_54e1ad281be9row4_col0\" class=\"data row4 col0\" >Family Guy</td>\n",
       "                        <td id=\"T_c819ec66_2848_11eb_84d5_54e1ad281be9row4_col1\" class=\"data row4 col1\" >2511</td>\n",
       "            </tr>\n",
       "            <tr>\n",
       "                        <th id=\"T_c819ec66_2848_11eb_84d5_54e1ad281be9level0_row5\" class=\"row_heading level0 row5\" >5</th>\n",
       "                        <td id=\"T_c819ec66_2848_11eb_84d5_54e1ad281be9row5_col0\" class=\"data row5 col0\" >MasterChef</td>\n",
       "                        <td id=\"T_c819ec66_2848_11eb_84d5_54e1ad281be9row5_col1\" class=\"data row5 col1\" >2509</td>\n",
       "            </tr>\n",
       "            <tr>\n",
       "                        <th id=\"T_c819ec66_2848_11eb_84d5_54e1ad281be9level0_row6\" class=\"row_heading level0 row6\" >6</th>\n",
       "                        <td id=\"T_c819ec66_2848_11eb_84d5_54e1ad281be9row6_col0\" class=\"data row6 col0\" >The Simpsons</td>\n",
       "                        <td id=\"T_c819ec66_2848_11eb_84d5_54e1ad281be9row6_col1\" class=\"data row6 col1\" >2502</td>\n",
       "            </tr>\n",
       "            <tr>\n",
       "                        <th id=\"T_c819ec66_2848_11eb_84d5_54e1ad281be9level0_row7\" class=\"row_heading level0 row7\" >7</th>\n",
       "                        <td id=\"T_c819ec66_2848_11eb_84d5_54e1ad281be9row7_col0\" class=\"data row7 col0\" >Brooklyn Nine-Nine</td>\n",
       "                        <td id=\"T_c819ec66_2848_11eb_84d5_54e1ad281be9row7_col1\" class=\"data row7 col1\" >2493</td>\n",
       "            </tr>\n",
       "            <tr>\n",
       "                        <th id=\"T_c819ec66_2848_11eb_84d5_54e1ad281be9level0_row8\" class=\"row_heading level0 row8\" >8</th>\n",
       "                        <td id=\"T_c819ec66_2848_11eb_84d5_54e1ad281be9row8_col0\" class=\"data row8 col0\" >Glee</td>\n",
       "                        <td id=\"T_c819ec66_2848_11eb_84d5_54e1ad281be9row8_col1\" class=\"data row8 col1\" >2480</td>\n",
       "            </tr>\n",
       "            <tr>\n",
       "                        <th id=\"T_c819ec66_2848_11eb_84d5_54e1ad281be9level0_row9\" class=\"row_heading level0 row9\" >9</th>\n",
       "                        <td id=\"T_c819ec66_2848_11eb_84d5_54e1ad281be9row9_col0\" class=\"data row9 col0\" >Hell's Kitchen</td>\n",
       "                        <td id=\"T_c819ec66_2848_11eb_84d5_54e1ad281be9row9_col1\" class=\"data row9 col1\" >2462</td>\n",
       "            </tr>\n",
       "            <tr>\n",
       "                        <th id=\"T_c819ec66_2848_11eb_84d5_54e1ad281be9level0_row10\" class=\"row_heading level0 row10\" >10</th>\n",
       "                        <td id=\"T_c819ec66_2848_11eb_84d5_54e1ad281be9row10_col0\" class=\"data row10 col0\" >Sleepy Hollow</td>\n",
       "                        <td id=\"T_c819ec66_2848_11eb_84d5_54e1ad281be9row10_col1\" class=\"data row10 col1\" >2380</td>\n",
       "            </tr>\n",
       "            <tr>\n",
       "                        <th id=\"T_c819ec66_2848_11eb_84d5_54e1ad281be9level0_row11\" class=\"row_heading level0 row11\" >11</th>\n",
       "                        <td id=\"T_c819ec66_2848_11eb_84d5_54e1ad281be9row11_col0\" class=\"data row11 col0\" >Wayward Pines</td>\n",
       "                        <td id=\"T_c819ec66_2848_11eb_84d5_54e1ad281be9row11_col1\" class=\"data row11 col1\" >2236</td>\n",
       "            </tr>\n",
       "            <tr>\n",
       "                        <th id=\"T_c819ec66_2848_11eb_84d5_54e1ad281be9level0_row12\" class=\"row_heading level0 row12\" >12</th>\n",
       "                        <td id=\"T_c819ec66_2848_11eb_84d5_54e1ad281be9row12_col0\" class=\"data row12 col0\" >24: Legacy</td>\n",
       "                        <td id=\"T_c819ec66_2848_11eb_84d5_54e1ad281be9row12_col1\" class=\"data row12 col1\" >2036</td>\n",
       "            </tr>\n",
       "            <tr>\n",
       "                        <th id=\"T_c819ec66_2848_11eb_84d5_54e1ad281be9level0_row13\" class=\"row_heading level0 row13\" >13</th>\n",
       "                        <td id=\"T_c819ec66_2848_11eb_84d5_54e1ad281be9row13_col0\" class=\"data row13 col0\" >MasterChef Junior</td>\n",
       "                        <td id=\"T_c819ec66_2848_11eb_84d5_54e1ad281be9row13_col1\" class=\"data row13 col1\" >2018</td>\n",
       "            </tr>\n",
       "            <tr>\n",
       "                        <th id=\"T_c819ec66_2848_11eb_84d5_54e1ad281be9level0_row14\" class=\"row_heading level0 row14\" >14</th>\n",
       "                        <td id=\"T_c819ec66_2848_11eb_84d5_54e1ad281be9row14_col0\" class=\"data row14 col0\" >Gotham</td>\n",
       "                        <td id=\"T_c819ec66_2848_11eb_84d5_54e1ad281be9row14_col1\" class=\"data row14 col1\" >2004</td>\n",
       "            </tr>\n",
       "    </tbody></table>"
      ],
      "text/plain": [
       "<pandas.io.formats.style.Styler at 0x1f8311b5fd0>"
      ]
     },
     "execution_count": 10,
     "metadata": {},
     "output_type": "execute_result"
    }
   ],
   "source": [
    "triangle = nx.triangles(graph)\n",
    "triangles = sorted(triangle.items(), key=lambda x: x[1], reverse=True)\n",
    "\n",
    "t = []\n",
    "name = []\n",
    "dft = pd.DataFrame()\n",
    "\n",
    "count=0\n",
    "for i in triangles:\n",
    "    if count==max_element:\n",
    "        break\n",
    "    count=count+1\n",
    "    name.append(i[0])\n",
    "    t.append(i[1])  \n",
    "\n",
    "dft[\"TV-show name\"] = name\n",
    "dft[\"Number of Triangle\"] = t\n",
    "dft.style"
   ]
  },
  {
   "cell_type": "markdown",
   "metadata": {},
   "source": [
    "## Degree Centrality\n",
    "This is based on the assumption that important nodes have many connections"
   ]
  },
  {
   "cell_type": "code",
   "execution_count": 11,
   "metadata": {},
   "outputs": [
    {
     "name": "stdout",
     "output_type": "stream",
     "text": [
      "Home & Family 0.03262558259968928 -> Clustering: 0.01892063492063492 , Triangles: 149\n",
      "Queen of the South 0.03262558259968928 -> Clustering: 0.018412698412698412 , Triangles: 145\n",
      "So You Think You Can Dance 0.027964785085447953 -> Clustering: 0.44634821737625474 , Triangles: 2579\n",
      "MasterChef 0.027705851890212324 -> Clustering: 0.44242637982719096 , Triangles: 2509\n",
      "Glee 0.026929052304505437 -> Clustering: 0.4630321135175504 , Triangles: 2480\n",
      "New Girl 0.02641118591403418 -> Clustering: 0.5016501650165016 , Triangles: 2584\n",
      "Family Guy 0.02615225271879855 -> Clustering: 0.4972277227722772 , Triangles: 2511\n",
      "The Simpsons 0.02589331952356292 -> Clustering: 0.5054545454545455 , Triangles: 2502\n",
      "Dancing with the Stars 0.02589331952356292 -> Clustering: 0.2808080808080808 , Triangles: 1390\n",
      "Bones 0.025116519937856033 -> Clustering: 0.5487542955326461 , Triangles: 2555\n",
      "Brooklyn Nine-Nine 0.02459865354738477 -> Clustering: 0.5583426651735722 , Triangles: 2493\n",
      "Bob's Burgers 0.02459865354738477 -> Clustering: 0.5637178051511759 , Triangles: 2517\n",
      "Hell's Kitchen 0.024339720352149142 -> Clustering: 0.5632578357355297 , Triangles: 2462\n",
      "Sleepy Hollow 0.023045054375970996 -> Clustering: 0.6077630234933605 , Triangles: 2380\n",
      "Modern Family 0.02226825479026411 -> Clustering: 0.3712722298221614 , Triangles: 1357\n"
     ]
    }
   ],
   "source": [
    "centrality = nx.degree_centrality(graph)\n",
    "\n",
    "sort_orders = sorted(centrality.items(), key=lambda x: x[1], reverse=True)\n",
    "\n",
    "degree_centr = []\n",
    "\n",
    "count=0\n",
    "for i in sort_orders:\n",
    "    if count==max_element:\n",
    "        break\n",
    "    count=count+1\n",
    "    print(i[0], i[1], \"-> Clustering:\",clustering[i[0]],\", Triangles:\",triangle[i[0]])\n",
    "    degree_centr.append(i[0])"
   ]
  },
  {
   "cell_type": "markdown",
   "metadata": {},
   "source": [
    "## Closeness Centrality\n",
    "This is based on the assumption that important nodes are close to other nodes."
   ]
  },
  {
   "cell_type": "code",
   "execution_count": 12,
   "metadata": {},
   "outputs": [
    {
     "name": "stdout",
     "output_type": "stream",
     "text": [
      "Queen of the South 0.26575832645196806 -> Clustering: 0.018412698412698412 , Triangles: 145\n",
      "Home & Family 0.2640864332603939 -> Clustering: 0.01892063492063492 , Triangles: 149\n",
      "Access 0.2594383984952304 -> Clustering: 0.06610259122157588 , Triangles: 125\n",
      "The Tonight Show Starring Jimmy Fallon 0.2537617451869374 -> Clustering: 0.1482153660012099 , Triangles: 245\n",
      "The Voice 0.2489043567929879 -> Clustering: 0.21190130624092887 , Triangles: 292\n",
      "The List 0.2461440407903123 -> Clustering: 0.0928030303030303 , Triangles: 49\n",
      "America's Got Talent 0.2456274247917064 -> Clustering: 0.32469935245143383 , Triangles: 351\n",
      "The Insider 0.2449575034885196 -> Clustering: 0.06507936507936508 , Triangles: 41\n",
      "The Biggest Loser 0.24326026706979087 -> Clustering: 0.3031674208144796 , Triangles: 402\n",
      "Entourage 0.242268364594442 -> Clustering: 0.13949579831932774 , Triangles: 83\n",
      "Parenthood 0.24125437281359322 -> Clustering: 0.4954954954954955 , Triangles: 330\n",
      "Jay Leno 0.24074304949507544 -> Clustering: 0.3853658536585366 , Triangles: 316\n",
      "Parks and Recreation 0.23992048207740574 -> Clustering: 0.34135060129509714 , Triangles: 369\n",
      "New Girl 0.23951872984371123 -> Clustering: 0.5016501650165016 , Triangles: 2584\n",
      "Extra 0.23779323933255342 -> Clustering: 0.03162055335968379 , Triangles: 8\n"
     ]
    }
   ],
   "source": [
    "close_centrality = nx.closeness_centrality(graph) \n",
    "\n",
    "sort_orders = sorted(close_centrality.items(), key=lambda x: x[1], reverse=True)\n",
    "\n",
    "close_centr = []\n",
    "\n",
    "count=0\n",
    "for i in sort_orders:\n",
    "    if count==max_element:\n",
    "        break\n",
    "    count=count+1\n",
    "    print(i[0], i[1], \"-> Clustering:\",clustering[i[0]],\", Triangles:\",triangle[i[0]])\n",
    "    close_centr.append(i[0])"
   ]
  },
  {
   "cell_type": "markdown",
   "metadata": {},
   "source": [
    "## Betweenness Centrality\n",
    "It assumes that important nodes connect other nodes"
   ]
  },
  {
   "cell_type": "code",
   "execution_count": 13,
   "metadata": {},
   "outputs": [
    {
     "name": "stdout",
     "output_type": "stream",
     "text": [
      "Queen of the South 0.10742523465145855 -> Clustering: 0.018412698412698412 , Triangles: 145\n",
      "Home & Family 0.0946836053254523 -> Clustering: 0.01892063492063492 , Triangles: 149\n",
      "The Tonight Show Starring Jimmy Fallon 0.07709095896577413 -> Clustering: 0.1482153660012099 , Triangles: 245\n",
      "The Voice Global 0.06959412801737738 -> Clustering: 0.024489795918367346 , Triangles: 30\n",
      "Access 0.06535333827877769 -> Clustering: 0.06610259122157588 , Triangles: 125\n",
      "The Voice 0.06169048036332727 -> Clustering: 0.21190130624092887 , Triangles: 292\n",
      "MasterChef 0.04534207571579322 -> Clustering: 0.44242637982719096 , Triangles: 2509\n",
      "American Idol 0.03899319150420554 -> Clustering: 0.3333333333333333 , Triangles: 287\n",
      "Top Chef 0.03476590236949271 -> Clustering: 0.21794871794871795 , Triangles: 289\n",
      "tagesschau 0.03457841379146478 -> Clustering: 0.1619718309859155 , Triangles: 414\n",
      "The List 0.03336848873767014 -> Clustering: 0.0928030303030303 , Triangles: 49\n",
      "Downton Abbey 0.031426416987036375 -> Clustering: 0.13043478260869565 , Triangles: 36\n",
      "The Walking Dead 0.030669904738815427 -> Clustering: 0.06072874493927125 , Triangles: 45\n",
      "America's Got Talent 0.028057879906630195 -> Clustering: 0.32469935245143383 , Triangles: 351\n",
      "The Simpsons 0.027607780481048845 -> Clustering: 0.5054545454545455 , Triangles: 2502\n"
     ]
    }
   ],
   "source": [
    "bet_centrality = nx.betweenness_centrality(graph, normalized = True,  \n",
    "                                              endpoints = False)\n",
    "\n",
    "sort_orders = sorted(bet_centrality.items(), key=lambda x: x[1], reverse=True)\n",
    "\n",
    "between_centr = []\n",
    "\n",
    "count=0\n",
    "for i in sort_orders:\n",
    "    if count==max_element:\n",
    "        break\n",
    "    count=count+1\n",
    "    print(i[0], i[1], \"-> Clustering:\",clustering[i[0]],\", Triangles:\",triangle[i[0]])\n",
    "    between_centr.append(i[0])"
   ]
  },
  {
   "cell_type": "markdown",
   "metadata": {},
   "source": [
    "## Page Rank\n",
    "Page Rank Algorithm was developed by Google founders to measure the importance of webpages from the hyperlink network structure. Page Rank assigns a score of importance to each node. Important nodes are those with many inlinks from important pages."
   ]
  },
  {
   "cell_type": "code",
   "execution_count": 14,
   "metadata": {},
   "outputs": [
    {
     "name": "stdout",
     "output_type": "stream",
     "text": [
      "Home & Family 0.0030029661331102894 -> Clustering: 0.01892063492063492 , Triangles: 149\n",
      "Queen of the South 0.002976327435336093 -> Clustering: 0.018412698412698412 , Triangles: 145\n",
      "The Voice Global 0.0026260675679972843 -> Clustering: 0.024489795918367346 , Triangles: 30\n",
      "Les séries Canal+ 0.0016364634913707751 -> Clustering: 0.06896551724137931 , Triangles: 28\n",
      "24 Oras 0.0015701246753894507 -> Clustering: 0.07096774193548387 , Triangles: 33\n",
      "tagesschau 0.001542366876001499 -> Clustering: 0.1619718309859155 , Triangles: 414\n",
      "CNN en Marcha 0.0013951782406360004 -> Clustering: 0.09090909090909091 , Triangles: 23\n",
      "Access 0.0013662341583642746 -> Clustering: 0.06610259122157588 , Triangles: 125\n",
      "The Walking Dead 0.0013340321332858847 -> Clustering: 0.06072874493927125 , Triangles: 45\n",
      "Good Morning America 0.0013325563591362315 -> Clustering: 0.05735430157261795 , Triangles: 62\n",
      "The Tonight Show Starring Jimmy Fallon 0.00132181040722322 -> Clustering: 0.1482153660012099 , Triangles: 245\n",
      "Salut Bonjour 0.0013031866582615215 -> Clustering: 0.16363636363636364 , Triangles: 162\n",
      "AL ROJO VIVO 0.0012389785843236682 -> Clustering: 0.12701612903225806 , Triangles: 63\n",
      "Top Chef 0.0012095305171137601 -> Clustering: 0.21794871794871795 , Triangles: 289\n",
      "Dancing with the Stars 0.0011890077494969994 -> Clustering: 0.2808080808080808 , Triangles: 1390\n"
     ]
    }
   ],
   "source": [
    "pr = nx.pagerank(graph, alpha = 0.8)\n",
    "\n",
    "sort_orders = sorted(pr.items(), key=lambda x: x[1], reverse=True)\n",
    "\n",
    "page_rank = []\n",
    "\n",
    "count=0\n",
    "for i in sort_orders:\n",
    "    if count==max_element:\n",
    "        break\n",
    "    count=count+1\n",
    "    print(i[0], i[1], \"-> Clustering:\",clustering[i[0]],\", Triangles:\",triangle[i[0]])\n",
    "    page_rank.append(i[0])"
   ]
  },
  {
   "cell_type": "markdown",
   "metadata": {},
   "source": [
    "### Here we can see the different result jointly"
   ]
  },
  {
   "cell_type": "code",
   "execution_count": 15,
   "metadata": {},
   "outputs": [
    {
     "data": {
      "text/html": [
       "<style  type=\"text/css\" >\n",
       "</style><table id=\"T_2c01a5f7_2849_11eb_9207_54e1ad281be9\" ><thead>    <tr>        <th class=\"blank level0\" ></th>        <th class=\"col_heading level0 col0\" >Degree Centrality</th>        <th class=\"col_heading level0 col1\" >Closeness Centrality</th>        <th class=\"col_heading level0 col2\" >Betweenness Centrality</th>        <th class=\"col_heading level0 col3\" >Page Rank</th>    </tr></thead><tbody>\n",
       "                <tr>\n",
       "                        <th id=\"T_2c01a5f7_2849_11eb_9207_54e1ad281be9level0_row0\" class=\"row_heading level0 row0\" >0</th>\n",
       "                        <td id=\"T_2c01a5f7_2849_11eb_9207_54e1ad281be9row0_col0\" class=\"data row0 col0\" >Home & Family</td>\n",
       "                        <td id=\"T_2c01a5f7_2849_11eb_9207_54e1ad281be9row0_col1\" class=\"data row0 col1\" >Queen of the South</td>\n",
       "                        <td id=\"T_2c01a5f7_2849_11eb_9207_54e1ad281be9row0_col2\" class=\"data row0 col2\" >Queen of the South</td>\n",
       "                        <td id=\"T_2c01a5f7_2849_11eb_9207_54e1ad281be9row0_col3\" class=\"data row0 col3\" >Home & Family</td>\n",
       "            </tr>\n",
       "            <tr>\n",
       "                        <th id=\"T_2c01a5f7_2849_11eb_9207_54e1ad281be9level0_row1\" class=\"row_heading level0 row1\" >1</th>\n",
       "                        <td id=\"T_2c01a5f7_2849_11eb_9207_54e1ad281be9row1_col0\" class=\"data row1 col0\" >Queen of the South</td>\n",
       "                        <td id=\"T_2c01a5f7_2849_11eb_9207_54e1ad281be9row1_col1\" class=\"data row1 col1\" >Home & Family</td>\n",
       "                        <td id=\"T_2c01a5f7_2849_11eb_9207_54e1ad281be9row1_col2\" class=\"data row1 col2\" >Home & Family</td>\n",
       "                        <td id=\"T_2c01a5f7_2849_11eb_9207_54e1ad281be9row1_col3\" class=\"data row1 col3\" >Queen of the South</td>\n",
       "            </tr>\n",
       "            <tr>\n",
       "                        <th id=\"T_2c01a5f7_2849_11eb_9207_54e1ad281be9level0_row2\" class=\"row_heading level0 row2\" >2</th>\n",
       "                        <td id=\"T_2c01a5f7_2849_11eb_9207_54e1ad281be9row2_col0\" class=\"data row2 col0\" >So You Think You Can Dance</td>\n",
       "                        <td id=\"T_2c01a5f7_2849_11eb_9207_54e1ad281be9row2_col1\" class=\"data row2 col1\" >Access</td>\n",
       "                        <td id=\"T_2c01a5f7_2849_11eb_9207_54e1ad281be9row2_col2\" class=\"data row2 col2\" >The Tonight Show Starring Jimmy Fallon</td>\n",
       "                        <td id=\"T_2c01a5f7_2849_11eb_9207_54e1ad281be9row2_col3\" class=\"data row2 col3\" >The Voice Global</td>\n",
       "            </tr>\n",
       "            <tr>\n",
       "                        <th id=\"T_2c01a5f7_2849_11eb_9207_54e1ad281be9level0_row3\" class=\"row_heading level0 row3\" >3</th>\n",
       "                        <td id=\"T_2c01a5f7_2849_11eb_9207_54e1ad281be9row3_col0\" class=\"data row3 col0\" >MasterChef</td>\n",
       "                        <td id=\"T_2c01a5f7_2849_11eb_9207_54e1ad281be9row3_col1\" class=\"data row3 col1\" >The Tonight Show Starring Jimmy Fallon</td>\n",
       "                        <td id=\"T_2c01a5f7_2849_11eb_9207_54e1ad281be9row3_col2\" class=\"data row3 col2\" >The Voice Global</td>\n",
       "                        <td id=\"T_2c01a5f7_2849_11eb_9207_54e1ad281be9row3_col3\" class=\"data row3 col3\" >Les séries Canal+</td>\n",
       "            </tr>\n",
       "            <tr>\n",
       "                        <th id=\"T_2c01a5f7_2849_11eb_9207_54e1ad281be9level0_row4\" class=\"row_heading level0 row4\" >4</th>\n",
       "                        <td id=\"T_2c01a5f7_2849_11eb_9207_54e1ad281be9row4_col0\" class=\"data row4 col0\" >Glee</td>\n",
       "                        <td id=\"T_2c01a5f7_2849_11eb_9207_54e1ad281be9row4_col1\" class=\"data row4 col1\" >The Voice</td>\n",
       "                        <td id=\"T_2c01a5f7_2849_11eb_9207_54e1ad281be9row4_col2\" class=\"data row4 col2\" >Access</td>\n",
       "                        <td id=\"T_2c01a5f7_2849_11eb_9207_54e1ad281be9row4_col3\" class=\"data row4 col3\" >24 Oras</td>\n",
       "            </tr>\n",
       "            <tr>\n",
       "                        <th id=\"T_2c01a5f7_2849_11eb_9207_54e1ad281be9level0_row5\" class=\"row_heading level0 row5\" >5</th>\n",
       "                        <td id=\"T_2c01a5f7_2849_11eb_9207_54e1ad281be9row5_col0\" class=\"data row5 col0\" >New Girl</td>\n",
       "                        <td id=\"T_2c01a5f7_2849_11eb_9207_54e1ad281be9row5_col1\" class=\"data row5 col1\" >The List</td>\n",
       "                        <td id=\"T_2c01a5f7_2849_11eb_9207_54e1ad281be9row5_col2\" class=\"data row5 col2\" >The Voice</td>\n",
       "                        <td id=\"T_2c01a5f7_2849_11eb_9207_54e1ad281be9row5_col3\" class=\"data row5 col3\" >tagesschau</td>\n",
       "            </tr>\n",
       "            <tr>\n",
       "                        <th id=\"T_2c01a5f7_2849_11eb_9207_54e1ad281be9level0_row6\" class=\"row_heading level0 row6\" >6</th>\n",
       "                        <td id=\"T_2c01a5f7_2849_11eb_9207_54e1ad281be9row6_col0\" class=\"data row6 col0\" >Family Guy</td>\n",
       "                        <td id=\"T_2c01a5f7_2849_11eb_9207_54e1ad281be9row6_col1\" class=\"data row6 col1\" >America's Got Talent</td>\n",
       "                        <td id=\"T_2c01a5f7_2849_11eb_9207_54e1ad281be9row6_col2\" class=\"data row6 col2\" >MasterChef</td>\n",
       "                        <td id=\"T_2c01a5f7_2849_11eb_9207_54e1ad281be9row6_col3\" class=\"data row6 col3\" >CNN en Marcha</td>\n",
       "            </tr>\n",
       "            <tr>\n",
       "                        <th id=\"T_2c01a5f7_2849_11eb_9207_54e1ad281be9level0_row7\" class=\"row_heading level0 row7\" >7</th>\n",
       "                        <td id=\"T_2c01a5f7_2849_11eb_9207_54e1ad281be9row7_col0\" class=\"data row7 col0\" >The Simpsons</td>\n",
       "                        <td id=\"T_2c01a5f7_2849_11eb_9207_54e1ad281be9row7_col1\" class=\"data row7 col1\" >The Insider</td>\n",
       "                        <td id=\"T_2c01a5f7_2849_11eb_9207_54e1ad281be9row7_col2\" class=\"data row7 col2\" >American Idol</td>\n",
       "                        <td id=\"T_2c01a5f7_2849_11eb_9207_54e1ad281be9row7_col3\" class=\"data row7 col3\" >Access</td>\n",
       "            </tr>\n",
       "            <tr>\n",
       "                        <th id=\"T_2c01a5f7_2849_11eb_9207_54e1ad281be9level0_row8\" class=\"row_heading level0 row8\" >8</th>\n",
       "                        <td id=\"T_2c01a5f7_2849_11eb_9207_54e1ad281be9row8_col0\" class=\"data row8 col0\" >Dancing with the Stars</td>\n",
       "                        <td id=\"T_2c01a5f7_2849_11eb_9207_54e1ad281be9row8_col1\" class=\"data row8 col1\" >The Biggest Loser</td>\n",
       "                        <td id=\"T_2c01a5f7_2849_11eb_9207_54e1ad281be9row8_col2\" class=\"data row8 col2\" >Top Chef</td>\n",
       "                        <td id=\"T_2c01a5f7_2849_11eb_9207_54e1ad281be9row8_col3\" class=\"data row8 col3\" >The Walking Dead</td>\n",
       "            </tr>\n",
       "            <tr>\n",
       "                        <th id=\"T_2c01a5f7_2849_11eb_9207_54e1ad281be9level0_row9\" class=\"row_heading level0 row9\" >9</th>\n",
       "                        <td id=\"T_2c01a5f7_2849_11eb_9207_54e1ad281be9row9_col0\" class=\"data row9 col0\" >Bones</td>\n",
       "                        <td id=\"T_2c01a5f7_2849_11eb_9207_54e1ad281be9row9_col1\" class=\"data row9 col1\" >Entourage</td>\n",
       "                        <td id=\"T_2c01a5f7_2849_11eb_9207_54e1ad281be9row9_col2\" class=\"data row9 col2\" >tagesschau</td>\n",
       "                        <td id=\"T_2c01a5f7_2849_11eb_9207_54e1ad281be9row9_col3\" class=\"data row9 col3\" >Good Morning America</td>\n",
       "            </tr>\n",
       "            <tr>\n",
       "                        <th id=\"T_2c01a5f7_2849_11eb_9207_54e1ad281be9level0_row10\" class=\"row_heading level0 row10\" >10</th>\n",
       "                        <td id=\"T_2c01a5f7_2849_11eb_9207_54e1ad281be9row10_col0\" class=\"data row10 col0\" >Brooklyn Nine-Nine</td>\n",
       "                        <td id=\"T_2c01a5f7_2849_11eb_9207_54e1ad281be9row10_col1\" class=\"data row10 col1\" >Parenthood</td>\n",
       "                        <td id=\"T_2c01a5f7_2849_11eb_9207_54e1ad281be9row10_col2\" class=\"data row10 col2\" >The List</td>\n",
       "                        <td id=\"T_2c01a5f7_2849_11eb_9207_54e1ad281be9row10_col3\" class=\"data row10 col3\" >The Tonight Show Starring Jimmy Fallon</td>\n",
       "            </tr>\n",
       "            <tr>\n",
       "                        <th id=\"T_2c01a5f7_2849_11eb_9207_54e1ad281be9level0_row11\" class=\"row_heading level0 row11\" >11</th>\n",
       "                        <td id=\"T_2c01a5f7_2849_11eb_9207_54e1ad281be9row11_col0\" class=\"data row11 col0\" >Bob's Burgers</td>\n",
       "                        <td id=\"T_2c01a5f7_2849_11eb_9207_54e1ad281be9row11_col1\" class=\"data row11 col1\" >Jay Leno</td>\n",
       "                        <td id=\"T_2c01a5f7_2849_11eb_9207_54e1ad281be9row11_col2\" class=\"data row11 col2\" >Downton Abbey</td>\n",
       "                        <td id=\"T_2c01a5f7_2849_11eb_9207_54e1ad281be9row11_col3\" class=\"data row11 col3\" >Salut Bonjour</td>\n",
       "            </tr>\n",
       "            <tr>\n",
       "                        <th id=\"T_2c01a5f7_2849_11eb_9207_54e1ad281be9level0_row12\" class=\"row_heading level0 row12\" >12</th>\n",
       "                        <td id=\"T_2c01a5f7_2849_11eb_9207_54e1ad281be9row12_col0\" class=\"data row12 col0\" >Hell's Kitchen</td>\n",
       "                        <td id=\"T_2c01a5f7_2849_11eb_9207_54e1ad281be9row12_col1\" class=\"data row12 col1\" >Parks and Recreation</td>\n",
       "                        <td id=\"T_2c01a5f7_2849_11eb_9207_54e1ad281be9row12_col2\" class=\"data row12 col2\" >The Walking Dead</td>\n",
       "                        <td id=\"T_2c01a5f7_2849_11eb_9207_54e1ad281be9row12_col3\" class=\"data row12 col3\" >AL ROJO VIVO</td>\n",
       "            </tr>\n",
       "            <tr>\n",
       "                        <th id=\"T_2c01a5f7_2849_11eb_9207_54e1ad281be9level0_row13\" class=\"row_heading level0 row13\" >13</th>\n",
       "                        <td id=\"T_2c01a5f7_2849_11eb_9207_54e1ad281be9row13_col0\" class=\"data row13 col0\" >Sleepy Hollow</td>\n",
       "                        <td id=\"T_2c01a5f7_2849_11eb_9207_54e1ad281be9row13_col1\" class=\"data row13 col1\" >New Girl</td>\n",
       "                        <td id=\"T_2c01a5f7_2849_11eb_9207_54e1ad281be9row13_col2\" class=\"data row13 col2\" >America's Got Talent</td>\n",
       "                        <td id=\"T_2c01a5f7_2849_11eb_9207_54e1ad281be9row13_col3\" class=\"data row13 col3\" >Top Chef</td>\n",
       "            </tr>\n",
       "            <tr>\n",
       "                        <th id=\"T_2c01a5f7_2849_11eb_9207_54e1ad281be9level0_row14\" class=\"row_heading level0 row14\" >14</th>\n",
       "                        <td id=\"T_2c01a5f7_2849_11eb_9207_54e1ad281be9row14_col0\" class=\"data row14 col0\" >Modern Family</td>\n",
       "                        <td id=\"T_2c01a5f7_2849_11eb_9207_54e1ad281be9row14_col1\" class=\"data row14 col1\" >Extra</td>\n",
       "                        <td id=\"T_2c01a5f7_2849_11eb_9207_54e1ad281be9row14_col2\" class=\"data row14 col2\" >The Simpsons</td>\n",
       "                        <td id=\"T_2c01a5f7_2849_11eb_9207_54e1ad281be9row14_col3\" class=\"data row14 col3\" >Dancing with the Stars</td>\n",
       "            </tr>\n",
       "    </tbody></table>"
      ],
      "text/plain": [
       "<pandas.io.formats.style.Styler at 0x1f8312247f0>"
      ]
     },
     "execution_count": 15,
     "metadata": {},
     "output_type": "execute_result"
    }
   ],
   "source": [
    "df = pd.DataFrame()\n",
    "df[\"Degree Centrality\"] = degree_centr\n",
    "df[\"Closeness Centrality\"] = close_centr\n",
    "df[\"Betweenness Centrality\"] = between_centr\n",
    "df[\"Page Rank\"] = page_rank\n",
    "df.style"
   ]
  },
  {
   "cell_type": "markdown",
   "metadata": {},
   "source": [
    "## Correlation between the different methods\n",
    "The method corr(), exported by the library pandas, uses the Pearson's Correlation Test between the different column of our data frame.\n",
    "We can see that, a part from the fact that the correlation matrix is specular by definition, there is not any particular strange result."
   ]
  },
  {
   "cell_type": "code",
   "execution_count": 16,
   "metadata": {},
   "outputs": [
    {
     "data": {
      "text/html": [
       "<div>\n",
       "<style scoped>\n",
       "    .dataframe tbody tr th:only-of-type {\n",
       "        vertical-align: middle;\n",
       "    }\n",
       "\n",
       "    .dataframe tbody tr th {\n",
       "        vertical-align: top;\n",
       "    }\n",
       "\n",
       "    .dataframe thead th {\n",
       "        text-align: right;\n",
       "    }\n",
       "</style>\n",
       "<table border=\"1\" class=\"dataframe\">\n",
       "  <thead>\n",
       "    <tr style=\"text-align: right;\">\n",
       "      <th></th>\n",
       "      <th>Page Rank</th>\n",
       "      <th>Betweenness Centrality</th>\n",
       "      <th>Closeness Centrality</th>\n",
       "      <th>Degree Centrality</th>\n",
       "    </tr>\n",
       "  </thead>\n",
       "  <tbody>\n",
       "    <tr>\n",
       "      <th>Page Rank</th>\n",
       "      <td>1.000000</td>\n",
       "      <td>0.692174</td>\n",
       "      <td>0.367285</td>\n",
       "      <td>0.694467</td>\n",
       "    </tr>\n",
       "    <tr>\n",
       "      <th>Betweenness Centrality</th>\n",
       "      <td>0.692174</td>\n",
       "      <td>1.000000</td>\n",
       "      <td>0.320117</td>\n",
       "      <td>0.427801</td>\n",
       "    </tr>\n",
       "    <tr>\n",
       "      <th>Closeness Centrality</th>\n",
       "      <td>0.367285</td>\n",
       "      <td>0.320117</td>\n",
       "      <td>1.000000</td>\n",
       "      <td>0.540740</td>\n",
       "    </tr>\n",
       "    <tr>\n",
       "      <th>Degree Centrality</th>\n",
       "      <td>0.694467</td>\n",
       "      <td>0.427801</td>\n",
       "      <td>0.540740</td>\n",
       "      <td>1.000000</td>\n",
       "    </tr>\n",
       "  </tbody>\n",
       "</table>\n",
       "</div>"
      ],
      "text/plain": [
       "                        Page Rank  Betweenness Centrality  \\\n",
       "Page Rank                1.000000                0.692174   \n",
       "Betweenness Centrality   0.692174                1.000000   \n",
       "Closeness Centrality     0.367285                0.320117   \n",
       "Degree Centrality        0.694467                0.427801   \n",
       "\n",
       "                        Closeness Centrality  Degree Centrality  \n",
       "Page Rank                           0.367285           0.694467  \n",
       "Betweenness Centrality              0.320117           0.427801  \n",
       "Closeness Centrality                1.000000           0.540740  \n",
       "Degree Centrality                   0.540740           1.000000  "
      ]
     },
     "execution_count": 16,
     "metadata": {},
     "output_type": "execute_result"
    }
   ],
   "source": [
    "corr = pd.DataFrame()\n",
    "corr[\"Page Rank\"] = pr.values()\n",
    "corr[\"Betweenness Centrality\"] = bet_centrality.values()\n",
    "corr[\"Closeness Centrality\"] = close_centrality.values()\n",
    "corr[\"Degree Centrality\"] = centrality.values()\n",
    "corr.corr()"
   ]
  },
  {
   "cell_type": "markdown",
   "metadata": {},
   "source": [
    "# Isolation and Connectivity"
   ]
  },
  {
   "cell_type": "code",
   "execution_count": 17,
   "metadata": {},
   "outputs": [
    {
     "name": "stdout",
     "output_type": "stream",
     "text": [
      "[]\n"
     ]
    }
   ],
   "source": [
    "print(list(nx.isolates(graph)))"
   ]
  },
  {
   "cell_type": "code",
   "execution_count": 18,
   "metadata": {},
   "outputs": [
    {
     "name": "stdout",
     "output_type": "stream",
     "text": [
      "True\n",
      "1\n"
     ]
    }
   ],
   "source": [
    "print(nx.is_connected(graph))\n",
    "print(nx.number_connected_components(graph))"
   ]
  },
  {
   "cell_type": "markdown",
   "metadata": {},
   "source": [
    "So, we have no isolated component which mean that our graph is connected and it has only one (big) connected component "
   ]
  },
  {
   "cell_type": "markdown",
   "metadata": {},
   "source": [
    "# ECDF in linear e logscale\n",
    "Here we analyse the degree distribution of our network and turns out that our graph is a scale-free network (like most of the real-world case) because it follow a power law degree distribution (heavy-tail distribution)."
   ]
  },
  {
   "cell_type": "code",
   "execution_count": 19,
   "metadata": {},
   "outputs": [
    {
     "data": {
      "text/plain": [
       "Text(0, 0.5, 'ECDF TV Show')"
      ]
     },
     "execution_count": 19,
     "metadata": {},
     "output_type": "execute_result"
    },
    {
     "data": {
      "image/png": "[encoded data removed]",
      "text/plain": [
       "<Figure size 576x288 with 1 Axes>"
      ]
     },
     "metadata": {
      "needs_background": "light"
     },
     "output_type": "display_data"
    }
   ],
   "source": [
    "# ECDF linear scale\n",
    "cdf = ECDF(graph_degree)\n",
    "x = np.unique(graph_degree)\n",
    "y = cdf(x)\n",
    "fig_cdf = plt.figure(figsize=(8,4))\n",
    "axes = fig_cdf.gca()\n",
    "axes.plot(x,y,marker='o',ms=6, linestyle='None')\n",
    "axes.set_xlabel('Degree',size=20)\n",
    "axes.set_ylabel('ECDF TV Show', size = 20)"
   ]
  },
  {
   "cell_type": "code",
   "execution_count": 20,
   "metadata": {},
   "outputs": [
    {
     "data": {
      "text/plain": [
       "Text(0, 0.5, 'ECDF TV Show')"
      ]
     },
     "execution_count": 20,
     "metadata": {},
     "output_type": "execute_result"
    },
    {
     "data": {
      "image/png": "[encoded data removed]",
      "text/plain": [
       "<Figure size 576x288 with 1 Axes>"
      ]
     },
     "metadata": {
      "needs_background": "light"
     },
     "output_type": "display_data"
    }
   ],
   "source": [
    "# ECDF loglog scale\n",
    "cdf = ECDF(graph_degree)\n",
    "x = np.unique(graph_degree)\n",
    "y = cdf(x)\n",
    "fig_cdf = plt.figure(figsize=(8,4))\n",
    "axes = fig_cdf.gca()\n",
    "axes.loglog(x,y,marker='o',ms=8, linestyle='--')\n",
    "axes.set_xlabel('Degree',size=20)\n",
    "axes.set_ylabel('ECDF TV Show', size = 20)"
   ]
  },
  {
   "cell_type": "code",
   "execution_count": 21,
   "metadata": {},
   "outputs": [
    {
     "data": {
      "text/plain": [
       "Text(0, 0.5, 'ECDF TV Show')"
      ]
     },
     "execution_count": 21,
     "metadata": {},
     "output_type": "execute_result"
    },
    {
     "data": {
      "image/png": "[encoded data removed]",
      "text/plain": [
       "<Figure size 576x288 with 1 Axes>"
      ]
     },
     "metadata": {
      "needs_background": "light"
     },
     "output_type": "display_data"
    }
   ],
   "source": [
    "# ECCDF\n",
    "cdf = ECDF(graph_degree)\n",
    "x = np.unique(graph_degree)\n",
    "y = cdf(x)\n",
    "fig_cdf = plt.figure(figsize=(8,4))\n",
    "axes = fig_cdf.gca()\n",
    "axes.loglog(x,1-y,marker='o',ms=8, linestyle='--')\n",
    "axes.set_xlabel('Degree',size=20)\n",
    "axes.set_ylabel('ECDF TV Show', size = 20)"
   ]
  },
  {
   "cell_type": "markdown",
   "metadata": {},
   "source": [
    "Now we can compare it with an Erdos-Renyi random network model to realize if the phenomenon carries information of if it is random.\n",
    "First we calculate the densitiy for our starting network and we see that, as expected, is low."
   ]
  },
  {
   "cell_type": "code",
   "execution_count": 22,
   "metadata": {},
   "outputs": [
    {
     "name": "stdout",
     "output_type": "stream",
     "text": [
      "Density: 0.0023129041767539792\n"
     ]
    }
   ],
   "source": [
    "density = nx.density(graph)\n",
    "print('Density: {}'.format(density))"
   ]
  },
  {
   "cell_type": "markdown",
   "metadata": {},
   "source": [
    "We use the density as parameter p of the Erdos-Renyi model, i.e. the probability that each pair of N labeled nodes is connected. The number of nodes of the two network must be equal and the number of links should be similiar."
   ]
  },
  {
   "cell_type": "code",
   "execution_count": 23,
   "metadata": {},
   "outputs": [
    {
     "name": "stdout",
     "output_type": "stream",
     "text": [
      "Number of nodes: 3863 - Number of links:17253 -> TV-Show netowrk\n",
      "Number of nodes: 3863 -> random network\n",
      "Number of links: 17236 -> random network\n"
     ]
    }
   ],
   "source": [
    "p = density\n",
    "\n",
    "random_graph = nx.fast_gnp_random_graph(graph.order(),p)\n",
    "\n",
    "print('Number of nodes: {} - Number of links:{} -> TV-Show netowrk'.format(graph.order(),graph.size()))\n",
    "print('Number of nodes: {} -> random network'.format(random_graph.order()))\n",
    "print('Number of links: {} -> random network'.format(random_graph.size()))\n",
    "\n",
    "random_degree = list(dict(random_graph.degree()).values())"
   ]
  },
  {
   "cell_type": "code",
   "execution_count": 24,
   "metadata": {},
   "outputs": [
    {
     "data": {
      "text/plain": [
       "Text(0, 0.5, 'ECCDF')"
      ]
     },
     "execution_count": 24,
     "metadata": {},
     "output_type": "execute_result"
    },
    {
     "data": {
      "image/png": "[encoded data removed]",
      "text/plain": [
       "<Figure size 576x288 with 1 Axes>"
      ]
     },
     "metadata": {
      "needs_background": "light"
     },
     "output_type": "display_data"
    }
   ],
   "source": [
    "cdf = ECDF(graph_degree)\n",
    "x = np.unique(graph_degree)\n",
    "y = cdf(x)\n",
    "\n",
    "cdf_random = ECDF(random_degree)\n",
    "x_random = np.unique(random_degree)\n",
    "y_random = cdf_random(x_random)\n",
    "\n",
    "fig_cdf_fb = plt.figure(figsize=(8,4))\n",
    "axes = fig_cdf_fb.gca()\n",
    "axes.set_xscale('log')\n",
    "axes.set_yscale('log')\n",
    "axes.loglog(x,1-y,marker='o',ms=8, linestyle='--')\n",
    "axes.loglog(x_random,1-y_random,marker='+',ms=10, linestyle='--')\n",
    "axes.set_xlabel('Degree',size=20)\n",
    "axes.set_ylabel('ECCDF', size = 20)"
   ]
  },
  {
   "cell_type": "markdown",
   "metadata": {},
   "source": [
    "We can see that they behave in a similar manner"
   ]
  },
  {
   "cell_type": "markdown",
   "metadata": {},
   "source": [
    "# Hubs\n",
    "Since we saw that we are talking about a scale-free network we can also say if there exist some hubs, by deeper analyse the degree distribution."
   ]
  },
  {
   "cell_type": "code",
   "execution_count": 25,
   "metadata": {},
   "outputs": [
    {
     "name": "stdout",
     "output_type": "stream",
     "text": [
      "99 percentile:  65.0\n",
      "Number of hubs:  40\n"
     ]
    },
    {
     "data": {
      "text/html": [
       "<style  type=\"text/css\" >\n",
       "</style><table id=\"T_2dbbb8f1_2849_11eb_9e09_54e1ad281be9\" ><thead>    <tr>        <th class=\"blank level0\" ></th>        <th class=\"col_heading level0 col0\" >Hub/Tv-show/node name</th>        <th class=\"col_heading level0 col1\" >Local clustering coefficient</th>        <th class=\"col_heading level0 col2\" >Number of triangle</th>    </tr></thead><tbody>\n",
       "                <tr>\n",
       "                        <th id=\"T_2dbbb8f1_2849_11eb_9e09_54e1ad281be9level0_row0\" class=\"row_heading level0 row0\" >0</th>\n",
       "                        <td id=\"T_2dbbb8f1_2849_11eb_9e09_54e1ad281be9row0_col0\" class=\"data row0 col0\" >American Grit</td>\n",
       "                        <td id=\"T_2dbbb8f1_2849_11eb_9e09_54e1ad281be9row0_col1\" class=\"data row0 col1\" >0.940385</td>\n",
       "                        <td id=\"T_2dbbb8f1_2849_11eb_9e09_54e1ad281be9row0_col2\" class=\"data row0 col2\" >1956</td>\n",
       "            </tr>\n",
       "            <tr>\n",
       "                        <th id=\"T_2dbbb8f1_2849_11eb_9e09_54e1ad281be9level0_row1\" class=\"row_heading level0 row1\" >1</th>\n",
       "                        <td id=\"T_2dbbb8f1_2849_11eb_9e09_54e1ad281be9row1_col0\" class=\"data row1 col0\" >Wayward Pines</td>\n",
       "                        <td id=\"T_2dbbb8f1_2849_11eb_9e09_54e1ad281be9row1_col1\" class=\"data row1 col1\" >0.690123</td>\n",
       "                        <td id=\"T_2dbbb8f1_2849_11eb_9e09_54e1ad281be9row1_col2\" class=\"data row1 col2\" >2236</td>\n",
       "            </tr>\n",
       "            <tr>\n",
       "                        <th id=\"T_2dbbb8f1_2849_11eb_9e09_54e1ad281be9level0_row2\" class=\"row_heading level0 row2\" >2</th>\n",
       "                        <td id=\"T_2dbbb8f1_2849_11eb_9e09_54e1ad281be9row2_col0\" class=\"data row2 col0\" >MasterChef</td>\n",
       "                        <td id=\"T_2dbbb8f1_2849_11eb_9e09_54e1ad281be9row2_col1\" class=\"data row2 col1\" >0.442426</td>\n",
       "                        <td id=\"T_2dbbb8f1_2849_11eb_9e09_54e1ad281be9row2_col2\" class=\"data row2 col2\" >2509</td>\n",
       "            </tr>\n",
       "            <tr>\n",
       "                        <th id=\"T_2dbbb8f1_2849_11eb_9e09_54e1ad281be9level0_row3\" class=\"row_heading level0 row3\" >3</th>\n",
       "                        <td id=\"T_2dbbb8f1_2849_11eb_9e09_54e1ad281be9row3_col0\" class=\"data row3 col0\" >The Grinder</td>\n",
       "                        <td id=\"T_2dbbb8f1_2849_11eb_9e09_54e1ad281be9row3_col1\" class=\"data row3 col1\" >0.929808</td>\n",
       "                        <td id=\"T_2dbbb8f1_2849_11eb_9e09_54e1ad281be9row3_col2\" class=\"data row3 col2\" >1934</td>\n",
       "            </tr>\n",
       "            <tr>\n",
       "                        <th id=\"T_2dbbb8f1_2849_11eb_9e09_54e1ad281be9level0_row4\" class=\"row_heading level0 row4\" >4</th>\n",
       "                        <td id=\"T_2dbbb8f1_2849_11eb_9e09_54e1ad281be9row4_col0\" class=\"data row4 col0\" >FOX Teen Choice Awards</td>\n",
       "                        <td id=\"T_2dbbb8f1_2849_11eb_9e09_54e1ad281be9row4_col1\" class=\"data row4 col1\" >0.732877</td>\n",
       "                        <td id=\"T_2dbbb8f1_2849_11eb_9e09_54e1ad281be9row4_col2\" class=\"data row4 col2\" >1926</td>\n",
       "            </tr>\n",
       "            <tr>\n",
       "                        <th id=\"T_2dbbb8f1_2849_11eb_9e09_54e1ad281be9level0_row5\" class=\"row_heading level0 row5\" >5</th>\n",
       "                        <td id=\"T_2dbbb8f1_2849_11eb_9e09_54e1ad281be9row5_col0\" class=\"data row5 col0\" >Rosewood</td>\n",
       "                        <td id=\"T_2dbbb8f1_2849_11eb_9e09_54e1ad281be9row5_col1\" class=\"data row5 col1\" >0.846121</td>\n",
       "                        <td id=\"T_2dbbb8f1_2849_11eb_9e09_54e1ad281be9row5_col2\" class=\"data row5 col2\" >1985</td>\n",
       "            </tr>\n",
       "            <tr>\n",
       "                        <th id=\"T_2dbbb8f1_2849_11eb_9e09_54e1ad281be9level0_row6\" class=\"row_heading level0 row6\" >6</th>\n",
       "                        <td id=\"T_2dbbb8f1_2849_11eb_9e09_54e1ad281be9row6_col0\" class=\"data row6 col0\" >Scream Queens</td>\n",
       "                        <td id=\"T_2dbbb8f1_2849_11eb_9e09_54e1ad281be9row6_col1\" class=\"data row6 col1\" >0.927885</td>\n",
       "                        <td id=\"T_2dbbb8f1_2849_11eb_9e09_54e1ad281be9row6_col2\" class=\"data row6 col2\" >1930</td>\n",
       "            </tr>\n",
       "            <tr>\n",
       "                        <th id=\"T_2dbbb8f1_2849_11eb_9e09_54e1ad281be9level0_row7\" class=\"row_heading level0 row7\" >7</th>\n",
       "                        <td id=\"T_2dbbb8f1_2849_11eb_9e09_54e1ad281be9row7_col0\" class=\"data row7 col0\" >New Girl</td>\n",
       "                        <td id=\"T_2dbbb8f1_2849_11eb_9e09_54e1ad281be9row7_col1\" class=\"data row7 col1\" >0.501650</td>\n",
       "                        <td id=\"T_2dbbb8f1_2849_11eb_9e09_54e1ad281be9row7_col2\" class=\"data row7 col2\" >2584</td>\n",
       "            </tr>\n",
       "            <tr>\n",
       "                        <th id=\"T_2dbbb8f1_2849_11eb_9e09_54e1ad281be9level0_row8\" class=\"row_heading level0 row8\" >8</th>\n",
       "                        <td id=\"T_2dbbb8f1_2849_11eb_9e09_54e1ad281be9row8_col0\" class=\"data row8 col0\" >Gotham</td>\n",
       "                        <td id=\"T_2dbbb8f1_2849_11eb_9e09_54e1ad281be9row8_col1\" class=\"data row8 col1\" >0.829814</td>\n",
       "                        <td id=\"T_2dbbb8f1_2849_11eb_9e09_54e1ad281be9row8_col2\" class=\"data row8 col2\" >2004</td>\n",
       "            </tr>\n",
       "            <tr>\n",
       "                        <th id=\"T_2dbbb8f1_2849_11eb_9e09_54e1ad281be9level0_row9\" class=\"row_heading level0 row9\" >9</th>\n",
       "                        <td id=\"T_2dbbb8f1_2849_11eb_9e09_54e1ad281be9row9_col0\" class=\"data row9 col0\" >Family Guy</td>\n",
       "                        <td id=\"T_2dbbb8f1_2849_11eb_9e09_54e1ad281be9row9_col1\" class=\"data row9 col1\" >0.497228</td>\n",
       "                        <td id=\"T_2dbbb8f1_2849_11eb_9e09_54e1ad281be9row9_col2\" class=\"data row9 col2\" >2511</td>\n",
       "            </tr>\n",
       "            <tr>\n",
       "                        <th id=\"T_2dbbb8f1_2849_11eb_9e09_54e1ad281be9level0_row10\" class=\"row_heading level0 row10\" >10</th>\n",
       "                        <td id=\"T_2dbbb8f1_2849_11eb_9e09_54e1ad281be9row10_col0\" class=\"data row10 col0\" >Grandfathered</td>\n",
       "                        <td id=\"T_2dbbb8f1_2849_11eb_9e09_54e1ad281be9row10_col1\" class=\"data row10 col1\" >0.875622</td>\n",
       "                        <td id=\"T_2dbbb8f1_2849_11eb_9e09_54e1ad281be9row10_col2\" class=\"data row10 col2\" >1936</td>\n",
       "            </tr>\n",
       "            <tr>\n",
       "                        <th id=\"T_2dbbb8f1_2849_11eb_9e09_54e1ad281be9level0_row11\" class=\"row_heading level0 row11\" >11</th>\n",
       "                        <td id=\"T_2dbbb8f1_2849_11eb_9e09_54e1ad281be9row11_col0\" class=\"data row11 col0\" >Empire</td>\n",
       "                        <td id=\"T_2dbbb8f1_2849_11eb_9e09_54e1ad281be9row11_col1\" class=\"data row11 col1\" >0.802817</td>\n",
       "                        <td id=\"T_2dbbb8f1_2849_11eb_9e09_54e1ad281be9row11_col2\" class=\"data row11 col2\" >1995</td>\n",
       "            </tr>\n",
       "            <tr>\n",
       "                        <th id=\"T_2dbbb8f1_2849_11eb_9e09_54e1ad281be9level0_row12\" class=\"row_heading level0 row12\" >12</th>\n",
       "                        <td id=\"T_2dbbb8f1_2849_11eb_9e09_54e1ad281be9row12_col0\" class=\"data row12 col0\" >Second Chance</td>\n",
       "                        <td id=\"T_2dbbb8f1_2849_11eb_9e09_54e1ad281be9row12_col1\" class=\"data row12 col1\" >0.900233</td>\n",
       "                        <td id=\"T_2dbbb8f1_2849_11eb_9e09_54e1ad281be9row12_col2\" class=\"data row12 col2\" >1931</td>\n",
       "            </tr>\n",
       "            <tr>\n",
       "                        <th id=\"T_2dbbb8f1_2849_11eb_9e09_54e1ad281be9level0_row13\" class=\"row_heading level0 row13\" >13</th>\n",
       "                        <td id=\"T_2dbbb8f1_2849_11eb_9e09_54e1ad281be9row13_col0\" class=\"data row13 col0\" >So You Think You Can Dance</td>\n",
       "                        <td id=\"T_2dbbb8f1_2849_11eb_9e09_54e1ad281be9row13_col1\" class=\"data row13 col1\" >0.446348</td>\n",
       "                        <td id=\"T_2dbbb8f1_2849_11eb_9e09_54e1ad281be9row13_col2\" class=\"data row13 col2\" >2579</td>\n",
       "            </tr>\n",
       "            <tr>\n",
       "                        <th id=\"T_2dbbb8f1_2849_11eb_9e09_54e1ad281be9level0_row14\" class=\"row_heading level0 row14\" >14</th>\n",
       "                        <td id=\"T_2dbbb8f1_2849_11eb_9e09_54e1ad281be9row14_col0\" class=\"data row14 col0\" >The Simpsons</td>\n",
       "                        <td id=\"T_2dbbb8f1_2849_11eb_9e09_54e1ad281be9row14_col1\" class=\"data row14 col1\" >0.505455</td>\n",
       "                        <td id=\"T_2dbbb8f1_2849_11eb_9e09_54e1ad281be9row14_col2\" class=\"data row14 col2\" >2502</td>\n",
       "            </tr>\n",
       "            <tr>\n",
       "                        <th id=\"T_2dbbb8f1_2849_11eb_9e09_54e1ad281be9level0_row15\" class=\"row_heading level0 row15\" >15</th>\n",
       "                        <td id=\"T_2dbbb8f1_2849_11eb_9e09_54e1ad281be9row15_col0\" class=\"data row15 col0\" >Glee</td>\n",
       "                        <td id=\"T_2dbbb8f1_2849_11eb_9e09_54e1ad281be9row15_col1\" class=\"data row15 col1\" >0.463032</td>\n",
       "                        <td id=\"T_2dbbb8f1_2849_11eb_9e09_54e1ad281be9row15_col2\" class=\"data row15 col2\" >2480</td>\n",
       "            </tr>\n",
       "            <tr>\n",
       "                        <th id=\"T_2dbbb8f1_2849_11eb_9e09_54e1ad281be9level0_row16\" class=\"row_heading level0 row16\" >16</th>\n",
       "                        <td id=\"T_2dbbb8f1_2849_11eb_9e09_54e1ad281be9row16_col0\" class=\"data row16 col0\" >MasterChef Junior</td>\n",
       "                        <td id=\"T_2dbbb8f1_2849_11eb_9e09_54e1ad281be9row16_col1\" class=\"data row16 col1\" >0.835611</td>\n",
       "                        <td id=\"T_2dbbb8f1_2849_11eb_9e09_54e1ad281be9row16_col2\" class=\"data row16 col2\" >2018</td>\n",
       "            </tr>\n",
       "            <tr>\n",
       "                        <th id=\"T_2dbbb8f1_2849_11eb_9e09_54e1ad281be9level0_row17\" class=\"row_heading level0 row17\" >17</th>\n",
       "                        <td id=\"T_2dbbb8f1_2849_11eb_9e09_54e1ad281be9row17_col0\" class=\"data row17 col0\" >Bones</td>\n",
       "                        <td id=\"T_2dbbb8f1_2849_11eb_9e09_54e1ad281be9row17_col1\" class=\"data row17 col1\" >0.548754</td>\n",
       "                        <td id=\"T_2dbbb8f1_2849_11eb_9e09_54e1ad281be9row17_col2\" class=\"data row17 col2\" >2555</td>\n",
       "            </tr>\n",
       "            <tr>\n",
       "                        <th id=\"T_2dbbb8f1_2849_11eb_9e09_54e1ad281be9level0_row18\" class=\"row_heading level0 row18\" >18</th>\n",
       "                        <td id=\"T_2dbbb8f1_2849_11eb_9e09_54e1ad281be9row18_col0\" class=\"data row18 col0\" >Sleepy Hollow</td>\n",
       "                        <td id=\"T_2dbbb8f1_2849_11eb_9e09_54e1ad281be9row18_col1\" class=\"data row18 col1\" >0.607763</td>\n",
       "                        <td id=\"T_2dbbb8f1_2849_11eb_9e09_54e1ad281be9row18_col2\" class=\"data row18 col2\" >2380</td>\n",
       "            </tr>\n",
       "            <tr>\n",
       "                        <th id=\"T_2dbbb8f1_2849_11eb_9e09_54e1ad281be9level0_row19\" class=\"row_heading level0 row19\" >19</th>\n",
       "                        <td id=\"T_2dbbb8f1_2849_11eb_9e09_54e1ad281be9row19_col0\" class=\"data row19 col0\" >Lucifer</td>\n",
       "                        <td id=\"T_2dbbb8f1_2849_11eb_9e09_54e1ad281be9row19_col1\" class=\"data row19 col1\" >0.937981</td>\n",
       "                        <td id=\"T_2dbbb8f1_2849_11eb_9e09_54e1ad281be9row19_col2\" class=\"data row19 col2\" >1951</td>\n",
       "            </tr>\n",
       "            <tr>\n",
       "                        <th id=\"T_2dbbb8f1_2849_11eb_9e09_54e1ad281be9level0_row20\" class=\"row_heading level0 row20\" >20</th>\n",
       "                        <td id=\"T_2dbbb8f1_2849_11eb_9e09_54e1ad281be9row20_col0\" class=\"data row20 col0\" >Hell's Kitchen</td>\n",
       "                        <td id=\"T_2dbbb8f1_2849_11eb_9e09_54e1ad281be9row20_col1\" class=\"data row20 col1\" >0.563258</td>\n",
       "                        <td id=\"T_2dbbb8f1_2849_11eb_9e09_54e1ad281be9row20_col2\" class=\"data row20 col2\" >2462</td>\n",
       "            </tr>\n",
       "            <tr>\n",
       "                        <th id=\"T_2dbbb8f1_2849_11eb_9e09_54e1ad281be9level0_row21\" class=\"row_heading level0 row21\" >21</th>\n",
       "                        <td id=\"T_2dbbb8f1_2849_11eb_9e09_54e1ad281be9row21_col0\" class=\"data row21 col0\" >24: Legacy</td>\n",
       "                        <td id=\"T_2dbbb8f1_2849_11eb_9e09_54e1ad281be9row21_col1\" class=\"data row21 col1\" >0.733694</td>\n",
       "                        <td id=\"T_2dbbb8f1_2849_11eb_9e09_54e1ad281be9row21_col2\" class=\"data row21 col2\" >2036</td>\n",
       "            </tr>\n",
       "            <tr>\n",
       "                        <th id=\"T_2dbbb8f1_2849_11eb_9e09_54e1ad281be9level0_row22\" class=\"row_heading level0 row22\" >22</th>\n",
       "                        <td id=\"T_2dbbb8f1_2849_11eb_9e09_54e1ad281be9row22_col0\" class=\"data row22 col0\" >My Kitchen Rules</td>\n",
       "                        <td id=\"T_2dbbb8f1_2849_11eb_9e09_54e1ad281be9row22_col1\" class=\"data row22 col1\" >0.600422</td>\n",
       "                        <td id=\"T_2dbbb8f1_2849_11eb_9e09_54e1ad281be9row22_col2\" class=\"data row22 col2\" >1994</td>\n",
       "            </tr>\n",
       "            <tr>\n",
       "                        <th id=\"T_2dbbb8f1_2849_11eb_9e09_54e1ad281be9level0_row23\" class=\"row_heading level0 row23\" >23</th>\n",
       "                        <td id=\"T_2dbbb8f1_2849_11eb_9e09_54e1ad281be9row23_col0\" class=\"data row23 col0\" >Brooklyn Nine-Nine</td>\n",
       "                        <td id=\"T_2dbbb8f1_2849_11eb_9e09_54e1ad281be9row23_col1\" class=\"data row23 col1\" >0.558343</td>\n",
       "                        <td id=\"T_2dbbb8f1_2849_11eb_9e09_54e1ad281be9row23_col2\" class=\"data row23 col2\" >2493</td>\n",
       "            </tr>\n",
       "            <tr>\n",
       "                        <th id=\"T_2dbbb8f1_2849_11eb_9e09_54e1ad281be9level0_row24\" class=\"row_heading level0 row24\" >24</th>\n",
       "                        <td id=\"T_2dbbb8f1_2849_11eb_9e09_54e1ad281be9row24_col0\" class=\"data row24 col0\" >Hotel Hell</td>\n",
       "                        <td id=\"T_2dbbb8f1_2849_11eb_9e09_54e1ad281be9row24_col1\" class=\"data row24 col1\" >0.912354</td>\n",
       "                        <td id=\"T_2dbbb8f1_2849_11eb_9e09_54e1ad281be9row24_col2\" class=\"data row24 col2\" >1957</td>\n",
       "            </tr>\n",
       "            <tr>\n",
       "                        <th id=\"T_2dbbb8f1_2849_11eb_9e09_54e1ad281be9level0_row25\" class=\"row_heading level0 row25\" >25</th>\n",
       "                        <td id=\"T_2dbbb8f1_2849_11eb_9e09_54e1ad281be9row25_col0\" class=\"data row25 col0\" >The Last Man on Earth</td>\n",
       "                        <td id=\"T_2dbbb8f1_2849_11eb_9e09_54e1ad281be9row25_col1\" class=\"data row25 col1\" >0.889643</td>\n",
       "                        <td id=\"T_2dbbb8f1_2849_11eb_9e09_54e1ad281be9row25_col2\" class=\"data row25 col2\" >1967</td>\n",
       "            </tr>\n",
       "            <tr>\n",
       "                        <th id=\"T_2dbbb8f1_2849_11eb_9e09_54e1ad281be9level0_row26\" class=\"row_heading level0 row26\" >26</th>\n",
       "                        <td id=\"T_2dbbb8f1_2849_11eb_9e09_54e1ad281be9row26_col0\" class=\"data row26 col0\" >Bob's Burgers</td>\n",
       "                        <td id=\"T_2dbbb8f1_2849_11eb_9e09_54e1ad281be9row26_col1\" class=\"data row26 col1\" >0.563718</td>\n",
       "                        <td id=\"T_2dbbb8f1_2849_11eb_9e09_54e1ad281be9row26_col2\" class=\"data row26 col2\" >2517</td>\n",
       "            </tr>\n",
       "            <tr>\n",
       "                        <th id=\"T_2dbbb8f1_2849_11eb_9e09_54e1ad281be9level0_row27\" class=\"row_heading level0 row27\" >27</th>\n",
       "                        <td id=\"T_2dbbb8f1_2849_11eb_9e09_54e1ad281be9row27_col0\" class=\"data row27 col0\" >The Bachelorette</td>\n",
       "                        <td id=\"T_2dbbb8f1_2849_11eb_9e09_54e1ad281be9row27_col1\" class=\"data row27 col1\" >0.424862</td>\n",
       "                        <td id=\"T_2dbbb8f1_2849_11eb_9e09_54e1ad281be9row27_col2\" class=\"data row27 col2\" >1309</td>\n",
       "            </tr>\n",
       "            <tr>\n",
       "                        <th id=\"T_2dbbb8f1_2849_11eb_9e09_54e1ad281be9level0_row28\" class=\"row_heading level0 row28\" >28</th>\n",
       "                        <td id=\"T_2dbbb8f1_2849_11eb_9e09_54e1ad281be9row28_col0\" class=\"data row28 col0\" >Castle</td>\n",
       "                        <td id=\"T_2dbbb8f1_2849_11eb_9e09_54e1ad281be9row28_col1\" class=\"data row28 col1\" >0.450828</td>\n",
       "                        <td id=\"T_2dbbb8f1_2849_11eb_9e09_54e1ad281be9row28_col2\" class=\"data row28 col2\" >1389</td>\n",
       "            </tr>\n",
       "            <tr>\n",
       "                        <th id=\"T_2dbbb8f1_2849_11eb_9e09_54e1ad281be9level0_row29\" class=\"row_heading level0 row29\" >29</th>\n",
       "                        <td id=\"T_2dbbb8f1_2849_11eb_9e09_54e1ad281be9row29_col0\" class=\"data row29 col0\" >Dancing with the Stars</td>\n",
       "                        <td id=\"T_2dbbb8f1_2849_11eb_9e09_54e1ad281be9row29_col1\" class=\"data row29 col1\" >0.280808</td>\n",
       "                        <td id=\"T_2dbbb8f1_2849_11eb_9e09_54e1ad281be9row29_col2\" class=\"data row29 col2\" >1390</td>\n",
       "            </tr>\n",
       "            <tr>\n",
       "                        <th id=\"T_2dbbb8f1_2849_11eb_9e09_54e1ad281be9level0_row30\" class=\"row_heading level0 row30\" >30</th>\n",
       "                        <td id=\"T_2dbbb8f1_2849_11eb_9e09_54e1ad281be9row30_col0\" class=\"data row30 col0\" >The Middle</td>\n",
       "                        <td id=\"T_2dbbb8f1_2849_11eb_9e09_54e1ad281be9row30_col1\" class=\"data row30 col1\" >0.492410</td>\n",
       "                        <td id=\"T_2dbbb8f1_2849_11eb_9e09_54e1ad281be9row30_col2\" class=\"data row30 col2\" >1330</td>\n",
       "            </tr>\n",
       "            <tr>\n",
       "                        <th id=\"T_2dbbb8f1_2849_11eb_9e09_54e1ad281be9level0_row31\" class=\"row_heading level0 row31\" >31</th>\n",
       "                        <td id=\"T_2dbbb8f1_2849_11eb_9e09_54e1ad281be9row31_col0\" class=\"data row31 col0\" >Modern Family</td>\n",
       "                        <td id=\"T_2dbbb8f1_2849_11eb_9e09_54e1ad281be9row31_col1\" class=\"data row31 col1\" >0.371272</td>\n",
       "                        <td id=\"T_2dbbb8f1_2849_11eb_9e09_54e1ad281be9row31_col2\" class=\"data row31 col2\" >1357</td>\n",
       "            </tr>\n",
       "            <tr>\n",
       "                        <th id=\"T_2dbbb8f1_2849_11eb_9e09_54e1ad281be9level0_row32\" class=\"row_heading level0 row32\" >32</th>\n",
       "                        <td id=\"T_2dbbb8f1_2849_11eb_9e09_54e1ad281be9row32_col0\" class=\"data row32 col0\" >The View</td>\n",
       "                        <td id=\"T_2dbbb8f1_2849_11eb_9e09_54e1ad281be9row32_col1\" class=\"data row32 col1\" >0.487639</td>\n",
       "                        <td id=\"T_2dbbb8f1_2849_11eb_9e09_54e1ad281be9row32_col2\" class=\"data row32 col2\" >1144</td>\n",
       "            </tr>\n",
       "            <tr>\n",
       "                        <th id=\"T_2dbbb8f1_2849_11eb_9e09_54e1ad281be9level0_row33\" class=\"row_heading level0 row33\" >33</th>\n",
       "                        <td id=\"T_2dbbb8f1_2849_11eb_9e09_54e1ad281be9row33_col0\" class=\"data row33 col0\" >Once Upon a Time</td>\n",
       "                        <td id=\"T_2dbbb8f1_2849_11eb_9e09_54e1ad281be9row33_col1\" class=\"data row33 col1\" >0.571154</td>\n",
       "                        <td id=\"T_2dbbb8f1_2849_11eb_9e09_54e1ad281be9row33_col2\" class=\"data row33 col2\" >1188</td>\n",
       "            </tr>\n",
       "            <tr>\n",
       "                        <th id=\"T_2dbbb8f1_2849_11eb_9e09_54e1ad281be9level0_row34\" class=\"row_heading level0 row34\" >34</th>\n",
       "                        <td id=\"T_2dbbb8f1_2849_11eb_9e09_54e1ad281be9row34_col0\" class=\"data row34 col0\" >Revenge</td>\n",
       "                        <td id=\"T_2dbbb8f1_2849_11eb_9e09_54e1ad281be9row34_col1\" class=\"data row34 col1\" >0.559615</td>\n",
       "                        <td id=\"T_2dbbb8f1_2849_11eb_9e09_54e1ad281be9row34_col2\" class=\"data row34 col2\" >1164</td>\n",
       "            </tr>\n",
       "            <tr>\n",
       "                        <th id=\"T_2dbbb8f1_2849_11eb_9e09_54e1ad281be9level0_row35\" class=\"row_heading level0 row35\" >35</th>\n",
       "                        <td id=\"T_2dbbb8f1_2849_11eb_9e09_54e1ad281be9row35_col0\" class=\"data row35 col0\" >Suburgatory</td>\n",
       "                        <td id=\"T_2dbbb8f1_2849_11eb_9e09_54e1ad281be9row35_col1\" class=\"data row35 col1\" >0.557666</td>\n",
       "                        <td id=\"T_2dbbb8f1_2849_11eb_9e09_54e1ad281be9row35_col2\" class=\"data row35 col2\" >1233</td>\n",
       "            </tr>\n",
       "            <tr>\n",
       "                        <th id=\"T_2dbbb8f1_2849_11eb_9e09_54e1ad281be9level0_row36\" class=\"row_heading level0 row36\" >36</th>\n",
       "                        <td id=\"T_2dbbb8f1_2849_11eb_9e09_54e1ad281be9row36_col0\" class=\"data row36 col0\" >Rookie Blue</td>\n",
       "                        <td id=\"T_2dbbb8f1_2849_11eb_9e09_54e1ad281be9row36_col1\" class=\"data row36 col1\" >0.512274</td>\n",
       "                        <td id=\"T_2dbbb8f1_2849_11eb_9e09_54e1ad281be9row36_col2\" class=\"data row36 col2\" >1273</td>\n",
       "            </tr>\n",
       "            <tr>\n",
       "                        <th id=\"T_2dbbb8f1_2849_11eb_9e09_54e1ad281be9level0_row37\" class=\"row_heading level0 row37\" >37</th>\n",
       "                        <td id=\"T_2dbbb8f1_2849_11eb_9e09_54e1ad281be9row37_col0\" class=\"data row37 col0\" >Home & Family</td>\n",
       "                        <td id=\"T_2dbbb8f1_2849_11eb_9e09_54e1ad281be9row37_col1\" class=\"data row37 col1\" >0.018921</td>\n",
       "                        <td id=\"T_2dbbb8f1_2849_11eb_9e09_54e1ad281be9row37_col2\" class=\"data row37 col2\" >149</td>\n",
       "            </tr>\n",
       "            <tr>\n",
       "                        <th id=\"T_2dbbb8f1_2849_11eb_9e09_54e1ad281be9level0_row38\" class=\"row_heading level0 row38\" >38</th>\n",
       "                        <td id=\"T_2dbbb8f1_2849_11eb_9e09_54e1ad281be9row38_col0\" class=\"data row38 col0\" >Queen of the South</td>\n",
       "                        <td id=\"T_2dbbb8f1_2849_11eb_9e09_54e1ad281be9row38_col1\" class=\"data row38 col1\" >0.018413</td>\n",
       "                        <td id=\"T_2dbbb8f1_2849_11eb_9e09_54e1ad281be9row38_col2\" class=\"data row38 col2\" >145</td>\n",
       "            </tr>\n",
       "            <tr>\n",
       "                        <th id=\"T_2dbbb8f1_2849_11eb_9e09_54e1ad281be9level0_row39\" class=\"row_heading level0 row39\" >39</th>\n",
       "                        <td id=\"T_2dbbb8f1_2849_11eb_9e09_54e1ad281be9row39_col0\" class=\"data row39 col0\" >tagesschau</td>\n",
       "                        <td id=\"T_2dbbb8f1_2849_11eb_9e09_54e1ad281be9row39_col1\" class=\"data row39 col1\" >0.161972</td>\n",
       "                        <td id=\"T_2dbbb8f1_2849_11eb_9e09_54e1ad281be9row39_col2\" class=\"data row39 col2\" >414</td>\n",
       "            </tr>\n",
       "    </tbody></table>"
      ],
      "text/plain": [
       "<pandas.io.formats.style.Styler at 0x1f832f07310>"
      ]
     },
     "execution_count": 25,
     "metadata": {},
     "output_type": "execute_result"
    }
   ],
   "source": [
    "percentile_99 = np.percentile(graph_degree,99)\n",
    "print(\"99 percentile: \", percentile_99)\n",
    "\n",
    "hub_nodi = [k for k,v in dict(graph.degree()).items() if v>= percentile_99]\n",
    "\n",
    "print(\"Number of hubs: \",len(hub_nodi))\n",
    "\n",
    "c = []\n",
    "t = []\n",
    "for i in hub_nodi:\n",
    "    if i in clustering.keys():\n",
    "        c.append(clustering[i])\n",
    "    if i in triangle.keys():\n",
    "        t.append(triangle[i])\n",
    "        \n",
    "dfh = pd.DataFrame()\n",
    "dfh[\"Hub/Tv-show/node name\"] = hub_nodi\n",
    "dfh[\"Local clustering coefficient\"] = c\n",
    "dfh[\"Number of triangle\"] = t\n",
    "dfh.style"
   ]
  },
  {
   "cell_type": "markdown",
   "metadata": {},
   "source": [
    "From the table above we can see that neither the local clustering coefficient neither the number of triangles implies if a node will be an hub."
   ]
  },
  {
   "cell_type": "markdown",
   "metadata": {},
   "source": [
    "# Conclusion"
   ]
  },
  {
   "cell_type": "markdown",
   "metadata": {},
   "source": [
    "From our degree analysis we see that different method (basing on different assumption) gives us different result.\n",
    "From last analysis, the one about hubs, we can see that there are some - let's say - important node in our network and not all of them appear in our degree analysis (and vice versa)."
   ]
  },
  {
   "cell_type": "code",
   "execution_count": null,
   "metadata": {},
   "outputs": [],
   "source": []
  },
  {
   "cell_type": "code",
   "execution_count": null,
   "metadata": {},
   "outputs": [],
   "source": []
  }
 ],
 "metadata": {
  "kernelspec": {
   "display_name": "Python 3",
   "language": "python",
   "name": "python3"
  },
  "language_info": {
   "codemirror_mode": {
    "name": "ipython",
    "version": 3
   },
   "file_extension": ".py",
   "mimetype": "text/x-python",
   "name": "python",
   "nbconvert_exporter": "python",
   "pygments_lexer": "ipython3",
   "version": "3.8.3"
  }
 },
 "nbformat": 4,
 "nbformat_minor": 4
}
